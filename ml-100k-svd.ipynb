{
 "cells": [
  {
   "cell_type": "code",
   "execution_count": 1,
   "metadata": {},
   "outputs": [
    {
     "name": "stdout",
     "output_type": "stream",
     "text": [
      "[5 3 4 1 2]\n"
     ]
    },
    {
     "data": {
      "text/html": [
       "<div>\n",
       "<style scoped>\n",
       "    .dataframe tbody tr th:only-of-type {\n",
       "        vertical-align: middle;\n",
       "    }\n",
       "\n",
       "    .dataframe tbody tr th {\n",
       "        vertical-align: top;\n",
       "    }\n",
       "\n",
       "    .dataframe thead th {\n",
       "        text-align: right;\n",
       "    }\n",
       "</style>\n",
       "<table border=\"1\" class=\"dataframe\">\n",
       "  <thead>\n",
       "    <tr style=\"text-align: right;\">\n",
       "      <th></th>\n",
       "      <th>user</th>\n",
       "      <th>item</th>\n",
       "      <th>rating</th>\n",
       "      <th>time</th>\n",
       "    </tr>\n",
       "  </thead>\n",
       "  <tbody>\n",
       "    <tr>\n",
       "      <th>count</th>\n",
       "      <td>80000.00000</td>\n",
       "      <td>80000.000000</td>\n",
       "      <td>80000.000000</td>\n",
       "      <td>8.000000e+04</td>\n",
       "    </tr>\n",
       "    <tr>\n",
       "      <th>mean</th>\n",
       "      <td>525.16570</td>\n",
       "      <td>425.705200</td>\n",
       "      <td>3.528350</td>\n",
       "      <td>8.835645e+08</td>\n",
       "    </tr>\n",
       "    <tr>\n",
       "      <th>std</th>\n",
       "      <td>255.94956</td>\n",
       "      <td>331.383936</td>\n",
       "      <td>1.118565</td>\n",
       "      <td>5.318611e+06</td>\n",
       "    </tr>\n",
       "    <tr>\n",
       "      <th>min</th>\n",
       "      <td>1.00000</td>\n",
       "      <td>1.000000</td>\n",
       "      <td>1.000000</td>\n",
       "      <td>8.747247e+08</td>\n",
       "    </tr>\n",
       "    <tr>\n",
       "      <th>25%</th>\n",
       "      <td>334.00000</td>\n",
       "      <td>175.000000</td>\n",
       "      <td>3.000000</td>\n",
       "      <td>8.794556e+08</td>\n",
       "    </tr>\n",
       "    <tr>\n",
       "      <th>50%</th>\n",
       "      <td>535.00000</td>\n",
       "      <td>321.000000</td>\n",
       "      <td>4.000000</td>\n",
       "      <td>8.828441e+08</td>\n",
       "    </tr>\n",
       "    <tr>\n",
       "      <th>75%</th>\n",
       "      <td>744.00000</td>\n",
       "      <td>631.000000</td>\n",
       "      <td>4.000000</td>\n",
       "      <td>8.882676e+08</td>\n",
       "    </tr>\n",
       "    <tr>\n",
       "      <th>max</th>\n",
       "      <td>943.00000</td>\n",
       "      <td>1682.000000</td>\n",
       "      <td>5.000000</td>\n",
       "      <td>8.932866e+08</td>\n",
       "    </tr>\n",
       "  </tbody>\n",
       "</table>\n",
       "</div>"
      ],
      "text/plain": [
       "              user          item        rating          time\n",
       "count  80000.00000  80000.000000  80000.000000  8.000000e+04\n",
       "mean     525.16570    425.705200      3.528350  8.835645e+08\n",
       "std      255.94956    331.383936      1.118565  5.318611e+06\n",
       "min        1.00000      1.000000      1.000000  8.747247e+08\n",
       "25%      334.00000    175.000000      3.000000  8.794556e+08\n",
       "50%      535.00000    321.000000      4.000000  8.828441e+08\n",
       "75%      744.00000    631.000000      4.000000  8.882676e+08\n",
       "max      943.00000   1682.000000      5.000000  8.932866e+08"
      ]
     },
     "execution_count": 1,
     "metadata": {},
     "output_type": "execute_result"
    }
   ],
   "source": [
    "import pandas as pd \n",
    "\n",
    "train1=pd.read_csv(\"ml-100k/u1.base\",sep=\"\\t\",header=-1,encoding=\"latin-1\",names=(\"user\",\"item\",\"rating\",\"time\"),\n",
    "                  # parse_dates=[3,],date_parser=datetime.fromtimestamp\n",
    "                  )\n",
    "\n",
    "\n",
    "#import sys\n",
    "#sys.getsizeof(train1)\n",
    "print(train1.rating.unique())\n",
    "train1.describe()"
   ]
  },
  {
   "cell_type": "code",
   "execution_count": 2,
   "metadata": {},
   "outputs": [
    {
     "name": "stdout",
     "output_type": "stream",
     "text": [
      "3.52835\n"
     ]
    },
    {
     "data": {
      "text/html": [
       "<div>\n",
       "<style scoped>\n",
       "    .dataframe tbody tr th:only-of-type {\n",
       "        vertical-align: middle;\n",
       "    }\n",
       "\n",
       "    .dataframe tbody tr th {\n",
       "        vertical-align: top;\n",
       "    }\n",
       "\n",
       "    .dataframe thead th {\n",
       "        text-align: right;\n",
       "    }\n",
       "</style>\n",
       "<table border=\"1\" class=\"dataframe\">\n",
       "  <thead>\n",
       "    <tr style=\"text-align: right;\">\n",
       "      <th></th>\n",
       "      <th>user</th>\n",
       "      <th>item</th>\n",
       "      <th>rating</th>\n",
       "      <th>time</th>\n",
       "    </tr>\n",
       "  </thead>\n",
       "  <tbody>\n",
       "    <tr>\n",
       "      <th>0</th>\n",
       "      <td>1</td>\n",
       "      <td>1</td>\n",
       "      <td>5</td>\n",
       "      <td>874965758</td>\n",
       "    </tr>\n",
       "    <tr>\n",
       "      <th>1</th>\n",
       "      <td>1</td>\n",
       "      <td>2</td>\n",
       "      <td>3</td>\n",
       "      <td>876893171</td>\n",
       "    </tr>\n",
       "    <tr>\n",
       "      <th>2</th>\n",
       "      <td>1</td>\n",
       "      <td>3</td>\n",
       "      <td>4</td>\n",
       "      <td>878542960</td>\n",
       "    </tr>\n",
       "    <tr>\n",
       "      <th>3</th>\n",
       "      <td>1</td>\n",
       "      <td>4</td>\n",
       "      <td>3</td>\n",
       "      <td>876893119</td>\n",
       "    </tr>\n",
       "    <tr>\n",
       "      <th>4</th>\n",
       "      <td>1</td>\n",
       "      <td>5</td>\n",
       "      <td>3</td>\n",
       "      <td>889751712</td>\n",
       "    </tr>\n",
       "  </tbody>\n",
       "</table>\n",
       "</div>"
      ],
      "text/plain": [
       "   user  item  rating       time\n",
       "0     1     1       5  874965758\n",
       "1     1     2       3  876893171\n",
       "2     1     3       4  878542960\n",
       "3     1     4       3  876893119\n",
       "4     1     5       3  889751712"
      ]
     },
     "execution_count": 2,
     "metadata": {},
     "output_type": "execute_result"
    }
   ],
   "source": [
    "avg=train1.rating.mean()\n",
    "print(avg)\n",
    "train1.head()"
   ]
  },
  {
   "cell_type": "code",
   "execution_count": 3,
   "metadata": {},
   "outputs": [
    {
     "name": "stdout",
     "output_type": "stream",
     "text": [
      "7.105427357601002e-19\n"
     ]
    },
    {
     "data": {
      "text/html": [
       "<div>\n",
       "<style scoped>\n",
       "    .dataframe tbody tr th:only-of-type {\n",
       "        vertical-align: middle;\n",
       "    }\n",
       "\n",
       "    .dataframe tbody tr th {\n",
       "        vertical-align: top;\n",
       "    }\n",
       "\n",
       "    .dataframe thead th {\n",
       "        text-align: right;\n",
       "    }\n",
       "</style>\n",
       "<table border=\"1\" class=\"dataframe\">\n",
       "  <thead>\n",
       "    <tr style=\"text-align: right;\">\n",
       "      <th></th>\n",
       "      <th>user</th>\n",
       "      <th>item</th>\n",
       "      <th>rating</th>\n",
       "      <th>time</th>\n",
       "      <th>rating_1</th>\n",
       "    </tr>\n",
       "  </thead>\n",
       "  <tbody>\n",
       "    <tr>\n",
       "      <th>0</th>\n",
       "      <td>1</td>\n",
       "      <td>1</td>\n",
       "      <td>5</td>\n",
       "      <td>874965758</td>\n",
       "      <td>1.47165</td>\n",
       "    </tr>\n",
       "    <tr>\n",
       "      <th>1</th>\n",
       "      <td>1</td>\n",
       "      <td>2</td>\n",
       "      <td>3</td>\n",
       "      <td>876893171</td>\n",
       "      <td>-0.52835</td>\n",
       "    </tr>\n",
       "    <tr>\n",
       "      <th>2</th>\n",
       "      <td>1</td>\n",
       "      <td>3</td>\n",
       "      <td>4</td>\n",
       "      <td>878542960</td>\n",
       "      <td>0.47165</td>\n",
       "    </tr>\n",
       "    <tr>\n",
       "      <th>3</th>\n",
       "      <td>1</td>\n",
       "      <td>4</td>\n",
       "      <td>3</td>\n",
       "      <td>876893119</td>\n",
       "      <td>-0.52835</td>\n",
       "    </tr>\n",
       "    <tr>\n",
       "      <th>4</th>\n",
       "      <td>1</td>\n",
       "      <td>5</td>\n",
       "      <td>3</td>\n",
       "      <td>889751712</td>\n",
       "      <td>-0.52835</td>\n",
       "    </tr>\n",
       "  </tbody>\n",
       "</table>\n",
       "</div>"
      ],
      "text/plain": [
       "   user  item  rating       time  rating_1\n",
       "0     1     1       5  874965758   1.47165\n",
       "1     1     2       3  876893171  -0.52835\n",
       "2     1     3       4  878542960   0.47165\n",
       "3     1     4       3  876893119  -0.52835\n",
       "4     1     5       3  889751712  -0.52835"
      ]
     },
     "execution_count": 3,
     "metadata": {},
     "output_type": "execute_result"
    }
   ],
   "source": [
    "#train1_avg0=train1.copy()\n",
    "train1['rating_1']=train1.rating-avg\n",
    "print(train1.rating_1.mean())\n",
    "train1.head()"
   ]
  },
  {
   "cell_type": "code",
   "execution_count": 4,
   "metadata": {},
   "outputs": [
    {
     "name": "stdout",
     "output_type": "stream",
     "text": [
      "item\n",
      "1    0.364600\n",
      "2   -0.347398\n",
      "3   -0.528350\n",
      "4   -0.002034\n",
      "5   -0.224002\n",
      "Name: rating_1, dtype: float64\n",
      "user\n",
      "1    0.153131\n",
      "2    0.271650\n",
      "3   -0.528350\n",
      "4    0.828793\n",
      "5   -0.572306\n",
      "Name: rating_1, dtype: float64\n"
     ]
    }
   ],
   "source": [
    "b_i=train1.groupby(\"item\").rating_1.mean()\n",
    "b_u=train1.groupby(\"user\").rating_1.mean()\n",
    "print(b_i.head())\n",
    "print(b_u.head())"
   ]
  },
  {
   "cell_type": "code",
   "execution_count": 5,
   "metadata": {},
   "outputs": [
    {
     "name": "stdout",
     "output_type": "stream",
     "text": [
      "-0.42767757484871066\n",
      "0.060530437258945\n"
     ]
    }
   ],
   "source": [
    "#this is in general non-zero ?\n",
    "print(b_i.mean())\n",
    "print(b_u.mean())"
   ]
  },
  {
   "cell_type": "code",
   "execution_count": 6,
   "metadata": {},
   "outputs": [],
   "source": [
    "train1['b_i'] = train1.apply(lambda x: b_i.loc[x['item']],axis=1)\n",
    "train1['b_u'] = train1.apply(lambda x: b_u.loc[x['user']],axis=1)"
   ]
  },
  {
   "cell_type": "code",
   "execution_count": 7,
   "metadata": {},
   "outputs": [
    {
     "data": {
      "text/html": [
       "<div>\n",
       "<style scoped>\n",
       "    .dataframe tbody tr th:only-of-type {\n",
       "        vertical-align: middle;\n",
       "    }\n",
       "\n",
       "    .dataframe tbody tr th {\n",
       "        vertical-align: top;\n",
       "    }\n",
       "\n",
       "    .dataframe thead th {\n",
       "        text-align: right;\n",
       "    }\n",
       "</style>\n",
       "<table border=\"1\" class=\"dataframe\">\n",
       "  <thead>\n",
       "    <tr style=\"text-align: right;\">\n",
       "      <th></th>\n",
       "      <th>user</th>\n",
       "      <th>item</th>\n",
       "      <th>rating</th>\n",
       "      <th>time</th>\n",
       "      <th>rating_1</th>\n",
       "      <th>b_i</th>\n",
       "      <th>b_u</th>\n",
       "      <th>mu_bu_bi</th>\n",
       "      <th>rating_2</th>\n",
       "    </tr>\n",
       "  </thead>\n",
       "  <tbody>\n",
       "    <tr>\n",
       "      <th>0</th>\n",
       "      <td>1</td>\n",
       "      <td>1</td>\n",
       "      <td>5</td>\n",
       "      <td>874965758</td>\n",
       "      <td>1.47165</td>\n",
       "      <td>0.364600</td>\n",
       "      <td>0.153131</td>\n",
       "      <td>4.046082</td>\n",
       "      <td>0.953918</td>\n",
       "    </tr>\n",
       "    <tr>\n",
       "      <th>1</th>\n",
       "      <td>1</td>\n",
       "      <td>2</td>\n",
       "      <td>3</td>\n",
       "      <td>876893171</td>\n",
       "      <td>-0.52835</td>\n",
       "      <td>-0.347398</td>\n",
       "      <td>0.153131</td>\n",
       "      <td>3.334084</td>\n",
       "      <td>-0.334084</td>\n",
       "    </tr>\n",
       "    <tr>\n",
       "      <th>2</th>\n",
       "      <td>1</td>\n",
       "      <td>3</td>\n",
       "      <td>4</td>\n",
       "      <td>878542960</td>\n",
       "      <td>0.47165</td>\n",
       "      <td>-0.528350</td>\n",
       "      <td>0.153131</td>\n",
       "      <td>3.153131</td>\n",
       "      <td>0.846869</td>\n",
       "    </tr>\n",
       "    <tr>\n",
       "      <th>3</th>\n",
       "      <td>1</td>\n",
       "      <td>4</td>\n",
       "      <td>3</td>\n",
       "      <td>876893119</td>\n",
       "      <td>-0.52835</td>\n",
       "      <td>-0.002034</td>\n",
       "      <td>0.153131</td>\n",
       "      <td>3.679447</td>\n",
       "      <td>-0.679447</td>\n",
       "    </tr>\n",
       "    <tr>\n",
       "      <th>4</th>\n",
       "      <td>1</td>\n",
       "      <td>5</td>\n",
       "      <td>3</td>\n",
       "      <td>889751712</td>\n",
       "      <td>-0.52835</td>\n",
       "      <td>-0.224002</td>\n",
       "      <td>0.153131</td>\n",
       "      <td>3.457479</td>\n",
       "      <td>-0.457479</td>\n",
       "    </tr>\n",
       "    <tr>\n",
       "      <th>5</th>\n",
       "      <td>1</td>\n",
       "      <td>7</td>\n",
       "      <td>4</td>\n",
       "      <td>875071561</td>\n",
       "      <td>0.47165</td>\n",
       "      <td>0.269696</td>\n",
       "      <td>0.153131</td>\n",
       "      <td>3.951177</td>\n",
       "      <td>0.048823</td>\n",
       "    </tr>\n",
       "    <tr>\n",
       "      <th>6</th>\n",
       "      <td>1</td>\n",
       "      <td>8</td>\n",
       "      <td>1</td>\n",
       "      <td>875072484</td>\n",
       "      <td>-2.52835</td>\n",
       "      <td>0.465870</td>\n",
       "      <td>0.153131</td>\n",
       "      <td>4.147351</td>\n",
       "      <td>-3.147351</td>\n",
       "    </tr>\n",
       "    <tr>\n",
       "      <th>7</th>\n",
       "      <td>1</td>\n",
       "      <td>9</td>\n",
       "      <td>5</td>\n",
       "      <td>878543541</td>\n",
       "      <td>1.47165</td>\n",
       "      <td>0.304983</td>\n",
       "      <td>0.153131</td>\n",
       "      <td>3.986465</td>\n",
       "      <td>1.013535</td>\n",
       "    </tr>\n",
       "    <tr>\n",
       "      <th>8</th>\n",
       "      <td>1</td>\n",
       "      <td>11</td>\n",
       "      <td>2</td>\n",
       "      <td>875072262</td>\n",
       "      <td>-1.52835</td>\n",
       "      <td>0.322932</td>\n",
       "      <td>0.153131</td>\n",
       "      <td>4.004414</td>\n",
       "      <td>-2.004414</td>\n",
       "    </tr>\n",
       "    <tr>\n",
       "      <th>9</th>\n",
       "      <td>1</td>\n",
       "      <td>13</td>\n",
       "      <td>5</td>\n",
       "      <td>875071805</td>\n",
       "      <td>1.47165</td>\n",
       "      <td>-0.117902</td>\n",
       "      <td>0.153131</td>\n",
       "      <td>3.563579</td>\n",
       "      <td>1.436421</td>\n",
       "    </tr>\n",
       "  </tbody>\n",
       "</table>\n",
       "</div>"
      ],
      "text/plain": [
       "   user  item  rating       time  rating_1       b_i       b_u  mu_bu_bi  \\\n",
       "0     1     1       5  874965758   1.47165  0.364600  0.153131  4.046082   \n",
       "1     1     2       3  876893171  -0.52835 -0.347398  0.153131  3.334084   \n",
       "2     1     3       4  878542960   0.47165 -0.528350  0.153131  3.153131   \n",
       "3     1     4       3  876893119  -0.52835 -0.002034  0.153131  3.679447   \n",
       "4     1     5       3  889751712  -0.52835 -0.224002  0.153131  3.457479   \n",
       "5     1     7       4  875071561   0.47165  0.269696  0.153131  3.951177   \n",
       "6     1     8       1  875072484  -2.52835  0.465870  0.153131  4.147351   \n",
       "7     1     9       5  878543541   1.47165  0.304983  0.153131  3.986465   \n",
       "8     1    11       2  875072262  -1.52835  0.322932  0.153131  4.004414   \n",
       "9     1    13       5  875071805   1.47165 -0.117902  0.153131  3.563579   \n",
       "\n",
       "   rating_2  \n",
       "0  0.953918  \n",
       "1 -0.334084  \n",
       "2  0.846869  \n",
       "3 -0.679447  \n",
       "4 -0.457479  \n",
       "5  0.048823  \n",
       "6 -3.147351  \n",
       "7  1.013535  \n",
       "8 -2.004414  \n",
       "9  1.436421  "
      ]
     },
     "execution_count": 7,
     "metadata": {},
     "output_type": "execute_result"
    }
   ],
   "source": [
    "#predictged score mu+b_u+b_i\n",
    "train1['mu_bu_bi']=avg+train1['b_i']+train1['b_u']\n",
    "#residual: true_score - mu - b_u - b_i\n",
    "train1['rating_2']=train1['rating_1']-train1['b_i']-train1['b_u']\n",
    "train1.head(10)"
   ]
  },
  {
   "cell_type": "code",
   "execution_count": 9,
   "metadata": {},
   "outputs": [
    {
     "name": "stdout",
     "output_type": "stream",
     "text": [
      "0.8691740892312809\n",
      "0.8691740892312809\n"
     ]
    }
   ],
   "source": [
    "import numpy as np \n",
    "from sklearn.metrics import mean_squared_error as mse\n",
    "print(mse(train1['rating'],train1['mu_bu_bi']))\n",
    "print(mse(train1['rating_2'],np.zeros(len(train1))))"
   ]
  },
  {
   "cell_type": "markdown",
   "metadata": {},
   "source": [
    "### test"
   ]
  },
  {
   "cell_type": "code",
   "execution_count": 10,
   "metadata": {},
   "outputs": [
    {
     "data": {
      "text/html": [
       "<div>\n",
       "<style scoped>\n",
       "    .dataframe tbody tr th:only-of-type {\n",
       "        vertical-align: middle;\n",
       "    }\n",
       "\n",
       "    .dataframe tbody tr th {\n",
       "        vertical-align: top;\n",
       "    }\n",
       "\n",
       "    .dataframe thead th {\n",
       "        text-align: right;\n",
       "    }\n",
       "</style>\n",
       "<table border=\"1\" class=\"dataframe\">\n",
       "  <thead>\n",
       "    <tr style=\"text-align: right;\">\n",
       "      <th></th>\n",
       "      <th>user</th>\n",
       "      <th>item</th>\n",
       "      <th>rating</th>\n",
       "      <th>time</th>\n",
       "    </tr>\n",
       "  </thead>\n",
       "  <tbody>\n",
       "    <tr>\n",
       "      <th>0</th>\n",
       "      <td>1</td>\n",
       "      <td>6</td>\n",
       "      <td>5</td>\n",
       "      <td>887431973</td>\n",
       "    </tr>\n",
       "    <tr>\n",
       "      <th>1</th>\n",
       "      <td>1</td>\n",
       "      <td>10</td>\n",
       "      <td>3</td>\n",
       "      <td>875693118</td>\n",
       "    </tr>\n",
       "    <tr>\n",
       "      <th>2</th>\n",
       "      <td>1</td>\n",
       "      <td>12</td>\n",
       "      <td>5</td>\n",
       "      <td>878542960</td>\n",
       "    </tr>\n",
       "    <tr>\n",
       "      <th>3</th>\n",
       "      <td>1</td>\n",
       "      <td>14</td>\n",
       "      <td>5</td>\n",
       "      <td>874965706</td>\n",
       "    </tr>\n",
       "    <tr>\n",
       "      <th>4</th>\n",
       "      <td>1</td>\n",
       "      <td>17</td>\n",
       "      <td>3</td>\n",
       "      <td>875073198</td>\n",
       "    </tr>\n",
       "  </tbody>\n",
       "</table>\n",
       "</div>"
      ],
      "text/plain": [
       "   user  item  rating       time\n",
       "0     1     6       5  887431973\n",
       "1     1    10       3  875693118\n",
       "2     1    12       5  878542960\n",
       "3     1    14       5  874965706\n",
       "4     1    17       3  875073198"
      ]
     },
     "execution_count": 10,
     "metadata": {},
     "output_type": "execute_result"
    }
   ],
   "source": [
    "test1=pd.read_csv(\"ml-100k/u1.test\",sep=\"\\t\",header=-1,encoding=\"latin-1\",names=(\"user\",\"item\",\"rating\",\"time\"),\n",
    "                  # parse_dates=[3,],date_parser=datetime.fromtimestamp\n",
    "                  )\n",
    "\n",
    "test1.head()"
   ]
  },
  {
   "cell_type": "code",
   "execution_count": 11,
   "metadata": {},
   "outputs": [],
   "source": [
    "#get returns 0 if user is not in index\n",
    "test1['b_i'] = test1.apply(lambda x: b_i.get(x['item'],0),axis=1)\n",
    "test1['b_u'] = test1.apply(lambda x: b_u.get(x['user'],0),axis=1)"
   ]
  },
  {
   "cell_type": "code",
   "execution_count": 211,
   "metadata": {},
   "outputs": [
    {
     "data": {
      "text/html": [
       "<div>\n",
       "<style scoped>\n",
       "    .dataframe tbody tr th:only-of-type {\n",
       "        vertical-align: middle;\n",
       "    }\n",
       "\n",
       "    .dataframe tbody tr th {\n",
       "        vertical-align: top;\n",
       "    }\n",
       "\n",
       "    .dataframe thead th {\n",
       "        text-align: right;\n",
       "    }\n",
       "</style>\n",
       "<table border=\"1\" class=\"dataframe\">\n",
       "  <thead>\n",
       "    <tr style=\"text-align: right;\">\n",
       "      <th></th>\n",
       "      <th>user</th>\n",
       "      <th>item</th>\n",
       "      <th>rating</th>\n",
       "      <th>time</th>\n",
       "      <th>b_i</th>\n",
       "      <th>b_u</th>\n",
       "      <th>mu_bu_bi</th>\n",
       "      <th>rating_2</th>\n",
       "      <th>train</th>\n",
       "      <th>rating_1</th>\n",
       "    </tr>\n",
       "  </thead>\n",
       "  <tbody>\n",
       "    <tr>\n",
       "      <th>0</th>\n",
       "      <td>1</td>\n",
       "      <td>6</td>\n",
       "      <td>5</td>\n",
       "      <td>887431973</td>\n",
       "      <td>-0.128350</td>\n",
       "      <td>0.153131</td>\n",
       "      <td>3.553131</td>\n",
       "      <td>1.446869</td>\n",
       "      <td>0</td>\n",
       "      <td>1.47165</td>\n",
       "    </tr>\n",
       "    <tr>\n",
       "      <th>1</th>\n",
       "      <td>1</td>\n",
       "      <td>10</td>\n",
       "      <td>3</td>\n",
       "      <td>875693118</td>\n",
       "      <td>0.348362</td>\n",
       "      <td>0.153131</td>\n",
       "      <td>4.029844</td>\n",
       "      <td>-1.029844</td>\n",
       "      <td>0</td>\n",
       "      <td>-0.52835</td>\n",
       "    </tr>\n",
       "    <tr>\n",
       "      <th>2</th>\n",
       "      <td>1</td>\n",
       "      <td>12</td>\n",
       "      <td>5</td>\n",
       "      <td>878542960</td>\n",
       "      <td>0.869754</td>\n",
       "      <td>0.153131</td>\n",
       "      <td>4.551236</td>\n",
       "      <td>0.448764</td>\n",
       "      <td>0</td>\n",
       "      <td>1.47165</td>\n",
       "    </tr>\n",
       "    <tr>\n",
       "      <th>3</th>\n",
       "      <td>1</td>\n",
       "      <td>14</td>\n",
       "      <td>5</td>\n",
       "      <td>874965706</td>\n",
       "      <td>0.371650</td>\n",
       "      <td>0.153131</td>\n",
       "      <td>4.053131</td>\n",
       "      <td>0.946869</td>\n",
       "      <td>0</td>\n",
       "      <td>1.47165</td>\n",
       "    </tr>\n",
       "    <tr>\n",
       "      <th>4</th>\n",
       "      <td>1</td>\n",
       "      <td>17</td>\n",
       "      <td>3</td>\n",
       "      <td>875073198</td>\n",
       "      <td>-0.347794</td>\n",
       "      <td>0.153131</td>\n",
       "      <td>3.333687</td>\n",
       "      <td>-0.333687</td>\n",
       "      <td>0</td>\n",
       "      <td>-0.52835</td>\n",
       "    </tr>\n",
       "    <tr>\n",
       "      <th>5</th>\n",
       "      <td>1</td>\n",
       "      <td>20</td>\n",
       "      <td>4</td>\n",
       "      <td>887431883</td>\n",
       "      <td>-0.056652</td>\n",
       "      <td>0.153131</td>\n",
       "      <td>3.624830</td>\n",
       "      <td>0.375170</td>\n",
       "      <td>0</td>\n",
       "      <td>0.47165</td>\n",
       "    </tr>\n",
       "    <tr>\n",
       "      <th>6</th>\n",
       "      <td>1</td>\n",
       "      <td>23</td>\n",
       "      <td>4</td>\n",
       "      <td>875072895</td>\n",
       "      <td>0.548083</td>\n",
       "      <td>0.153131</td>\n",
       "      <td>4.229565</td>\n",
       "      <td>-0.229565</td>\n",
       "      <td>0</td>\n",
       "      <td>0.47165</td>\n",
       "    </tr>\n",
       "    <tr>\n",
       "      <th>7</th>\n",
       "      <td>1</td>\n",
       "      <td>24</td>\n",
       "      <td>3</td>\n",
       "      <td>875071713</td>\n",
       "      <td>-0.131291</td>\n",
       "      <td>0.153131</td>\n",
       "      <td>3.550190</td>\n",
       "      <td>-0.550190</td>\n",
       "      <td>0</td>\n",
       "      <td>-0.52835</td>\n",
       "    </tr>\n",
       "    <tr>\n",
       "      <th>8</th>\n",
       "      <td>1</td>\n",
       "      <td>27</td>\n",
       "      <td>2</td>\n",
       "      <td>876892946</td>\n",
       "      <td>-0.348350</td>\n",
       "      <td>0.153131</td>\n",
       "      <td>3.333131</td>\n",
       "      <td>-1.333131</td>\n",
       "      <td>0</td>\n",
       "      <td>-1.52835</td>\n",
       "    </tr>\n",
       "    <tr>\n",
       "      <th>9</th>\n",
       "      <td>1</td>\n",
       "      <td>31</td>\n",
       "      <td>3</td>\n",
       "      <td>875072144</td>\n",
       "      <td>0.124876</td>\n",
       "      <td>0.153131</td>\n",
       "      <td>3.806357</td>\n",
       "      <td>-0.806357</td>\n",
       "      <td>0</td>\n",
       "      <td>-0.52835</td>\n",
       "    </tr>\n",
       "  </tbody>\n",
       "</table>\n",
       "</div>"
      ],
      "text/plain": [
       "   user  item  rating       time       b_i       b_u  mu_bu_bi  rating_2  \\\n",
       "0     1     6       5  887431973 -0.128350  0.153131  3.553131  1.446869   \n",
       "1     1    10       3  875693118  0.348362  0.153131  4.029844 -1.029844   \n",
       "2     1    12       5  878542960  0.869754  0.153131  4.551236  0.448764   \n",
       "3     1    14       5  874965706  0.371650  0.153131  4.053131  0.946869   \n",
       "4     1    17       3  875073198 -0.347794  0.153131  3.333687 -0.333687   \n",
       "5     1    20       4  887431883 -0.056652  0.153131  3.624830  0.375170   \n",
       "6     1    23       4  875072895  0.548083  0.153131  4.229565 -0.229565   \n",
       "7     1    24       3  875071713 -0.131291  0.153131  3.550190 -0.550190   \n",
       "8     1    27       2  876892946 -0.348350  0.153131  3.333131 -1.333131   \n",
       "9     1    31       3  875072144  0.124876  0.153131  3.806357 -0.806357   \n",
       "\n",
       "   train  rating_1  \n",
       "0      0   1.47165  \n",
       "1      0  -0.52835  \n",
       "2      0   1.47165  \n",
       "3      0   1.47165  \n",
       "4      0  -0.52835  \n",
       "5      0   0.47165  \n",
       "6      0   0.47165  \n",
       "7      0  -0.52835  \n",
       "8      0  -1.52835  \n",
       "9      0  -0.52835  "
      ]
     },
     "execution_count": 211,
     "metadata": {},
     "output_type": "execute_result"
    }
   ],
   "source": [
    "#predicts score by summing total average, user average and item average\n",
    "test1['mu_bu_bi']=avg+test1['b_i']+test1['b_u']\n",
    "test1['rating_2']=test1['rating']-avg-test1['b_i']-test1['b_u']\n",
    "test1['rating_1']=test1['rating']-avg\n",
    "test1.head(10)"
   ]
  },
  {
   "cell_type": "code",
   "execution_count": 207,
   "metadata": {},
   "outputs": [
    {
     "name": "stdout",
     "output_type": "stream",
     "text": [
      "0.8691740892312809\n",
      "0.9607495517918387\n",
      "1.3309681924999999\n"
     ]
    }
   ],
   "source": [
    "print(mse(train1['rating'],train1['mu_bu_bi']))\n",
    "print(mse(test1['rating'],test1['mu_bu_bi']))\n",
    "print(mse(test1['rating_2'],np.zeros(len(test1))))"
   ]
  },
  {
   "cell_type": "code",
   "execution_count": 208,
   "metadata": {},
   "outputs": [],
   "source": [
    "train1['train']=1\n",
    "test1['train']=0\n",
    "df_total=pd.concat([train1,test1])\n",
    "#df_total"
   ]
  },
  {
   "cell_type": "markdown",
   "metadata": {},
   "source": [
    "## SVD"
   ]
  },
  {
   "cell_type": "code",
   "execution_count": 179,
   "metadata": {},
   "outputs": [
    {
     "name": "stdout",
     "output_type": "stream",
     "text": [
      "80000\n",
      "80000\n",
      "(943, 1682)\n"
     ]
    }
   ],
   "source": [
    "import scipy.sparse as sp\n",
    "\n",
    "import numpy as np\n",
    "#these are the ratings, read as a sparse matrix, with index starting from zero, hence the -1\n",
    "user_item_0=sp.coo_matrix((np.array(train1[\"rating\"].astype('float')),(np.array(train1[\"user\"]-1),np.array(train1[\"item\"]-1))))\n",
    "user_item_1=sp.coo_matrix((np.array(train1[\"rating_1\"]),(np.array(train1[\"user\"]-1),np.array(train1[\"item\"]-1))))\n",
    "user_item_2=sp.coo_matrix((np.array(train1[\"rating_2\"]),(np.array(train1[\"user\"]-1),np.array(train1[\"item\"]-1))))\n",
    "\n",
    "\n",
    "#these are if there is a rating\n",
    "#user_item_n=scipy.sparse.coo_matrix((np.ones(len(df)),(np.array(df[\"user\"]-1),np.array(df[\"item\"]-1))))\n",
    "\n",
    "print(user_item_2.getnnz())\n",
    "print(user_item_2.count_nonzero())\n",
    "#print(user_item_n.count_nonzero())\n",
    "print(user_item_2.shape)\n",
    "#print(user_item_n.shape)"
   ]
  },
  {
   "cell_type": "code",
   "execution_count": 180,
   "metadata": {},
   "outputs": [
    {
     "data": {
      "text/plain": [
       "943"
      ]
     },
     "execution_count": 180,
     "metadata": {},
     "output_type": "execute_result"
    }
   ],
   "source": [
    "n_1,n_2=user_item_2.shape\n",
    "size_min=min(n_1,n_2)\n",
    "size_min"
   ]
  },
  {
   "cell_type": "code",
   "execution_count": 181,
   "metadata": {},
   "outputs": [],
   "source": [
    "import scipy.sparse.linalg as spl\n",
    "U,s,VT=spl.svds(user_item_0,k=size_min-1)"
   ]
  },
  {
   "cell_type": "code",
   "execution_count": 182,
   "metadata": {},
   "outputs": [
    {
     "data": {
      "text/plain": [
       "<matplotlib.text.Text at 0x7f6fccc974a8>"
      ]
     },
     "execution_count": 182,
     "metadata": {},
     "output_type": "execute_result"
    },
    {
     "data": {
      "image/png": "[encoded data removed]",
      "text/plain": [
       "<matplotlib.figure.Figure at 0x7f6fd411bf60>"
      ]
     },
     "metadata": {},
     "output_type": "display_data"
    }
   ],
   "source": [
    "import matplotlib.pyplot as plt\n",
    "plt.plot(s,'.')\n",
    "plt.title('singular values')"
   ]
  },
  {
   "cell_type": "code",
   "execution_count": 183,
   "metadata": {},
   "outputs": [],
   "source": [
    "#from the reconstructed array, extract only elements that correspond to the training set\n",
    "ind_i=np.array(train1[\"user\"]-1)\n",
    "ind_j=np.array(train1[\"item\"]-1)\n",
    "#values_ij=np.array([rec_array[i,j] for i,j in zip(ind_i,ind_j)])\n",
    "#rec_array_sparse=sp.coo_matrix((values_ij,(ind_i,ind_j)))\n",
    "#mse(values_ij,train1['rating_2'])\n"
   ]
  },
  {
   "cell_type": "code",
   "execution_count": 186,
   "metadata": {},
   "outputs": [],
   "source": [
    "#rec_array=np.dot(U, np.dot(S, VT))\n",
    "#train1['rating_svd']=train1.apply(lambda x: rec_array[int(x['user']-1),int(x['item']-1)],axis=1)\n",
    "#train1.head()"
   ]
  },
  {
   "cell_type": "code",
   "execution_count": 25,
   "metadata": {},
   "outputs": [],
   "source": [
    "#using all SVD values I represent the matrix exactly\n",
    "#rating_2 is rating -mu-b_i-b_u, to which I apply the SVD procedure\n",
    "#mse(train1['rating_svd'],train1['rating_2'])"
   ]
  },
  {
   "cell_type": "code",
   "execution_count": 192,
   "metadata": {
    "scrolled": true
   },
   "outputs": [
    {
     "name": "stdout",
     "output_type": "stream",
     "text": [
      "1\n",
      "11\n",
      "21\n",
      "31\n",
      "41\n",
      "51\n",
      "61\n",
      "71\n",
      "81\n",
      "91\n",
      "101\n",
      "111\n",
      "121\n",
      "131\n",
      "141\n",
      "151\n",
      "161\n",
      "171\n",
      "181\n",
      "191\n",
      "201\n",
      "211\n",
      "221\n",
      "231\n",
      "241\n",
      "251\n",
      "261\n"
     ]
    },
    {
     "ename": "KeyboardInterrupt",
     "evalue": "",
     "output_type": "error",
     "traceback": [
      "\u001b[0;31m---------------------------------------------------------------------------\u001b[0m",
      "\u001b[0;31mKeyboardInterrupt\u001b[0m                         Traceback (most recent call last)",
      "\u001b[0;32m<ipython-input-192-bcdf26b8847e>\u001b[0m in \u001b[0;36m<module>\u001b[0;34m()\u001b[0m\n\u001b[1;32m      7\u001b[0m     \u001b[0mS\u001b[0m \u001b[0;34m=\u001b[0m \u001b[0mnp\u001b[0m\u001b[0;34m.\u001b[0m\u001b[0mdiag\u001b[0m\u001b[0;34m(\u001b[0m\u001b[0ms\u001b[0m\u001b[0;34m)\u001b[0m\u001b[0;34m\u001b[0m\u001b[0m\n\u001b[1;32m      8\u001b[0m     \u001b[0mrec_array\u001b[0m\u001b[0;34m=\u001b[0m\u001b[0mnp\u001b[0m\u001b[0;34m.\u001b[0m\u001b[0mdot\u001b[0m\u001b[0;34m(\u001b[0m\u001b[0mU\u001b[0m\u001b[0;34m,\u001b[0m \u001b[0mnp\u001b[0m\u001b[0;34m.\u001b[0m\u001b[0mdot\u001b[0m\u001b[0;34m(\u001b[0m\u001b[0mS\u001b[0m\u001b[0;34m,\u001b[0m \u001b[0mVT\u001b[0m\u001b[0;34m)\u001b[0m\u001b[0;34m)\u001b[0m\u001b[0;34m\u001b[0m\u001b[0m\n\u001b[0;32m----> 9\u001b[0;31m     \u001b[0mvalues_ij\u001b[0m\u001b[0;34m=\u001b[0m\u001b[0mnp\u001b[0m\u001b[0;34m.\u001b[0m\u001b[0marray\u001b[0m\u001b[0;34m(\u001b[0m\u001b[0;34m[\u001b[0m\u001b[0mrec_array\u001b[0m\u001b[0;34m[\u001b[0m\u001b[0mi\u001b[0m\u001b[0;34m,\u001b[0m\u001b[0mj\u001b[0m\u001b[0;34m]\u001b[0m \u001b[0;32mfor\u001b[0m \u001b[0mi\u001b[0m\u001b[0;34m,\u001b[0m\u001b[0mj\u001b[0m \u001b[0;32min\u001b[0m \u001b[0mzip\u001b[0m\u001b[0;34m(\u001b[0m\u001b[0mind_i\u001b[0m\u001b[0;34m,\u001b[0m\u001b[0mind_j\u001b[0m\u001b[0;34m)\u001b[0m\u001b[0;34m]\u001b[0m\u001b[0;34m)\u001b[0m\u001b[0;34m\u001b[0m\u001b[0m\n\u001b[0m\u001b[1;32m     10\u001b[0m     \u001b[0;31m#rec_array_sparse=sp.coo_matrix((values_ij,(ind_i,ind_j)))\u001b[0m\u001b[0;34m\u001b[0m\u001b[0;34m\u001b[0m\u001b[0m\n\u001b[1;32m     11\u001b[0m     \u001b[0;31m#train1['rating_svd']=train1.apply(lambda x: rec_array[int(x['user']-1),int(x['item']-1)],axis=1)\u001b[0m\u001b[0;34m\u001b[0m\u001b[0;34m\u001b[0m\u001b[0m\n",
      "\u001b[0;32m<ipython-input-192-bcdf26b8847e>\u001b[0m in \u001b[0;36m<listcomp>\u001b[0;34m(.0)\u001b[0m\n\u001b[1;32m      7\u001b[0m     \u001b[0mS\u001b[0m \u001b[0;34m=\u001b[0m \u001b[0mnp\u001b[0m\u001b[0;34m.\u001b[0m\u001b[0mdiag\u001b[0m\u001b[0;34m(\u001b[0m\u001b[0ms\u001b[0m\u001b[0;34m)\u001b[0m\u001b[0;34m\u001b[0m\u001b[0m\n\u001b[1;32m      8\u001b[0m     \u001b[0mrec_array\u001b[0m\u001b[0;34m=\u001b[0m\u001b[0mnp\u001b[0m\u001b[0;34m.\u001b[0m\u001b[0mdot\u001b[0m\u001b[0;34m(\u001b[0m\u001b[0mU\u001b[0m\u001b[0;34m,\u001b[0m \u001b[0mnp\u001b[0m\u001b[0;34m.\u001b[0m\u001b[0mdot\u001b[0m\u001b[0;34m(\u001b[0m\u001b[0mS\u001b[0m\u001b[0;34m,\u001b[0m \u001b[0mVT\u001b[0m\u001b[0;34m)\u001b[0m\u001b[0;34m)\u001b[0m\u001b[0;34m\u001b[0m\u001b[0m\n\u001b[0;32m----> 9\u001b[0;31m     \u001b[0mvalues_ij\u001b[0m\u001b[0;34m=\u001b[0m\u001b[0mnp\u001b[0m\u001b[0;34m.\u001b[0m\u001b[0marray\u001b[0m\u001b[0;34m(\u001b[0m\u001b[0;34m[\u001b[0m\u001b[0mrec_array\u001b[0m\u001b[0;34m[\u001b[0m\u001b[0mi\u001b[0m\u001b[0;34m,\u001b[0m\u001b[0mj\u001b[0m\u001b[0;34m]\u001b[0m \u001b[0;32mfor\u001b[0m \u001b[0mi\u001b[0m\u001b[0;34m,\u001b[0m\u001b[0mj\u001b[0m \u001b[0;32min\u001b[0m \u001b[0mzip\u001b[0m\u001b[0;34m(\u001b[0m\u001b[0mind_i\u001b[0m\u001b[0;34m,\u001b[0m\u001b[0mind_j\u001b[0m\u001b[0;34m)\u001b[0m\u001b[0;34m]\u001b[0m\u001b[0;34m)\u001b[0m\u001b[0;34m\u001b[0m\u001b[0m\n\u001b[0m\u001b[1;32m     10\u001b[0m     \u001b[0;31m#rec_array_sparse=sp.coo_matrix((values_ij,(ind_i,ind_j)))\u001b[0m\u001b[0;34m\u001b[0m\u001b[0;34m\u001b[0m\u001b[0m\n\u001b[1;32m     11\u001b[0m     \u001b[0;31m#train1['rating_svd']=train1.apply(lambda x: rec_array[int(x['user']-1),int(x['item']-1)],axis=1)\u001b[0m\u001b[0;34m\u001b[0m\u001b[0;34m\u001b[0m\u001b[0m\n",
      "\u001b[0;31mKeyboardInterrupt\u001b[0m: "
     ]
    }
   ],
   "source": [
    "error=[]\n",
    "ind_i=np.array(train1[\"user\"]-1)\n",
    "ind_j=np.array(train1[\"item\"]-1)\n",
    "for size in range(1,size_min-1,10):\n",
    "    print(size)\n",
    "    U,s,VT=spl.svds(user_item_0,k=size)\n",
    "    S = np.diag(s)\n",
    "    rec_array=np.dot(U, np.dot(S, VT))\n",
    "    values_ij=np.array([rec_array[i,j] for i,j in zip(ind_i,ind_j)])\n",
    "    #rec_array_sparse=sp.coo_matrix((values_ij,(ind_i,ind_j)))\n",
    "    #train1['rating_svd']=train1.apply(lambda x: rec_array[int(x['user']-1),int(x['item']-1)],axis=1)\n",
    "    error.append(mse(values_ij,train1['rating_2']))\n",
    "    #error.append(mse(user_item_2.toarray()))"
   ]
  },
  {
   "cell_type": "code",
   "execution_count": 27,
   "metadata": {},
   "outputs": [
    {
     "data": {
      "text/plain": [
       "<matplotlib.text.Text at 0x7f6ff0051080>"
      ]
     },
     "execution_count": 27,
     "metadata": {},
     "output_type": "execute_result"
    },
    {
     "data": {
      "image/png": "[encoded data removed]",
      "text/plain": [
       "<matplotlib.figure.Figure at 0x7f6ff00af128>"
      ]
     },
     "metadata": {},
     "output_type": "display_data"
    }
   ],
   "source": [
    "plt.plot(range(1,size_min-1,10),error,'.')\n",
    "plt.title('error on train set vs. number of singular values')"
   ]
  },
  {
   "cell_type": "code",
   "execution_count": 193,
   "metadata": {},
   "outputs": [
    {
     "data": {
      "image/png": "[encoded data removed]",
      "text/plain": [
       "<matplotlib.figure.Figure at 0x7f6fcc29f400>"
      ]
     },
     "metadata": {},
     "output_type": "display_data"
    }
   ],
   "source": [
    "#here I use the routine for full matrices\n",
    "U, s, VT = np.linalg.svd(user_item_0.toarray(), full_matrices=False)\n",
    "plt.plot(s,'.');"
   ]
  },
  {
   "cell_type": "code",
   "execution_count": 198,
   "metadata": {
    "scrolled": true
   },
   "outputs": [
    {
     "name": "stdout",
     "output_type": "stream",
     "text": [
      "0\n",
      "10\n",
      "20\n",
      "30\n",
      "40\n",
      "50\n",
      "60\n",
      "70\n",
      "80\n",
      "90\n",
      "100\n",
      "110\n",
      "120\n",
      "130\n",
      "140\n",
      "150\n",
      "160\n",
      "170\n",
      "180\n",
      "190\n",
      "200\n",
      "210\n",
      "220\n",
      "230\n",
      "240\n",
      "250\n",
      "260\n",
      "270\n",
      "280\n",
      "290\n",
      "300\n",
      "310\n",
      "320\n",
      "330\n",
      "340\n",
      "350\n",
      "360\n",
      "370\n",
      "380\n",
      "390\n",
      "400\n",
      "410\n",
      "420\n",
      "430\n",
      "440\n",
      "450\n",
      "460\n",
      "470\n",
      "480\n",
      "490\n",
      "500\n",
      "510\n",
      "520\n",
      "530\n",
      "540\n",
      "550\n",
      "560\n",
      "570\n",
      "580\n",
      "590\n",
      "600\n",
      "610\n",
      "620\n",
      "630\n",
      "640\n",
      "650\n",
      "660\n",
      "670\n",
      "680\n",
      "690\n",
      "700\n",
      "710\n",
      "720\n",
      "730\n",
      "740\n",
      "750\n",
      "760\n",
      "770\n",
      "780\n",
      "790\n",
      "800\n",
      "810\n",
      "820\n",
      "830\n",
      "840\n",
      "850\n",
      "860\n",
      "870\n",
      "880\n",
      "890\n",
      "900\n",
      "910\n",
      "920\n",
      "930\n",
      "940\n"
     ]
    }
   ],
   "source": [
    "error2=[]\n",
    "ind_i=np.array(train1[\"user\"]-1)\n",
    "ind_j=np.array(train1[\"item\"]-1)\n",
    "for size in range(0,size_min-1,10):\n",
    "    print(size)\n",
    "    S = np.diag(s[:size])\n",
    "    rec_array=np.dot(U[:,:size], np.dot(S, VT[:size,:]))\n",
    "    values_ij=np.array([rec_array[i,j] for i,j in zip(ind_i,ind_j)])\n",
    "    error2.append(mse(values_ij,train1['rating']))\n",
    "    #diff=user_item_2.toarray()- np.dot(U[:,:size], np.dot(S, VT[:size,:]))\n",
    "    #error2.append(np.linalg.norm(diff))"
   ]
  },
  {
   "cell_type": "code",
   "execution_count": 200,
   "metadata": {},
   "outputs": [
    {
     "data": {
      "image/png": "[encoded data removed]",
      "text/plain": [
       "<matplotlib.figure.Figure at 0x7f6fcc2d65c0>"
      ]
     },
     "metadata": {},
     "output_type": "display_data"
    }
   ],
   "source": [
    "plt.plot(range(0,size_min-1,10),error2,'.')\n",
    "#plt.plot(range(1,size_min-1,10),error,'.')\n",
    "plt.title('train error vs. number of singular values');"
   ]
  },
  {
   "cell_type": "markdown",
   "metadata": {},
   "source": [
    "### SVD for test set"
   ]
  },
  {
   "cell_type": "code",
   "execution_count": 209,
   "metadata": {},
   "outputs": [
    {
     "data": {
      "text/plain": [
       "[<matplotlib.lines.Line2D at 0x7f6fcbe6c160>]"
      ]
     },
     "execution_count": 209,
     "metadata": {},
     "output_type": "execute_result"
    },
    {
     "data": {
      "image/png": "[encoded data removed]",
      "text/plain": [
       "<matplotlib.figure.Figure at 0x7f702a2091d0>"
      ]
     },
     "metadata": {},
     "output_type": "display_data"
    }
   ],
   "source": [
    "#here I use the routine for full matrices\n",
    "U, s, VT = np.linalg.svd(user_item_1.toarray(), full_matrices=False)\n",
    "plt.plot(s,'.')"
   ]
  },
  {
   "cell_type": "code",
   "execution_count": 212,
   "metadata": {
    "scrolled": true
   },
   "outputs": [
    {
     "name": "stdout",
     "output_type": "stream",
     "text": [
      "0\n",
      "1\n",
      "2\n",
      "3\n",
      "4\n",
      "5\n",
      "6\n",
      "7\n",
      "8\n",
      "9\n",
      "10\n",
      "11\n",
      "12\n",
      "13\n",
      "14\n",
      "15\n",
      "16\n",
      "17\n",
      "18\n",
      "19\n",
      "20\n",
      "21\n",
      "22\n",
      "23\n",
      "24\n",
      "25\n",
      "26\n",
      "27\n",
      "28\n",
      "29\n",
      "30\n",
      "31\n",
      "32\n",
      "33\n",
      "34\n",
      "35\n",
      "36\n",
      "37\n",
      "38\n",
      "39\n",
      "40\n",
      "41\n",
      "42\n",
      "43\n",
      "44\n",
      "45\n",
      "46\n",
      "47\n",
      "48\n",
      "49\n",
      "50\n",
      "51\n",
      "52\n",
      "53\n",
      "54\n",
      "55\n",
      "56\n",
      "57\n",
      "58\n",
      "59\n",
      "60\n",
      "61\n",
      "62\n",
      "63\n",
      "64\n",
      "65\n",
      "66\n",
      "67\n",
      "68\n",
      "69\n",
      "70\n",
      "71\n",
      "72\n",
      "73\n",
      "74\n",
      "75\n",
      "76\n",
      "77\n",
      "78\n",
      "79\n",
      "80\n",
      "81\n",
      "82\n",
      "83\n",
      "84\n",
      "85\n",
      "86\n",
      "87\n",
      "88\n",
      "89\n",
      "90\n",
      "91\n",
      "92\n",
      "93\n",
      "94\n",
      "95\n",
      "96\n",
      "97\n",
      "98\n",
      "99\n"
     ]
    }
   ],
   "source": [
    "ind_i=np.array(test1[\"user\"]-1)\n",
    "ind_j=np.array(test1[\"item\"]-1)\n",
    "error3=[]\n",
    "for size in range(0,100):\n",
    "    print(size)\n",
    "    S = np.diag(s[:size])\n",
    "    rec_array=np.dot(U[:,:size], np.dot(S, VT[:size,:]))\n",
    "    values_ij=np.array([rec_array[i,j] for i,j in zip(ind_i,ind_j)])\n",
    "    error3.append(mse(values_ij,test1['rating_1']))\n",
    "    #diff=user_item_2.toarray()- np.dot(U[:,:size], np.dot(S, VT[:size,:]))\n",
    "    #error2.append(np.linalg.norm(diff))"
   ]
  },
  {
   "cell_type": "code",
   "execution_count": 213,
   "metadata": {},
   "outputs": [
    {
     "data": {
      "text/plain": [
       "<matplotlib.lines.Line2D at 0x7f6fccfdffd0>"
      ]
     },
     "execution_count": 213,
     "metadata": {},
     "output_type": "execute_result"
    },
    {
     "data": {
      "image/png": "[encoded data removed]",
      "text/plain": [
       "<matplotlib.figure.Figure at 0x7f6fd43d5630>"
      ]
     },
     "metadata": {},
     "output_type": "display_data"
    }
   ],
   "source": [
    "plt.plot(range(0,40),error3[:40],'o',label='test')\n",
    "#plt.plot(range(0,40),error2[:40],'.',label='train')\n",
    "#plt.plot(range(1,size_min-1,10),error,'.')\n",
    "plt.title('test error vs. number of singular values')\n",
    "plt.legend();\n",
    "plt.axvline(5.5)\n",
    "plt.axvline(15.5)"
   ]
  },
  {
   "cell_type": "code",
   "execution_count": 34,
   "metadata": {},
   "outputs": [
    {
     "data": {
      "image/png": "[encoded data removed]",
      "text/plain": [
       "<matplotlib.figure.Figure at 0x7f6fd43e50b8>"
      ]
     },
     "metadata": {},
     "output_type": "display_data"
    }
   ],
   "source": [
    "plt.plot(range(0,40),error3[:40],'o',label='test')\n",
    "plt.plot(range(0,40),error2[:40],'o',label='train')\n",
    "#plt.plot(range(1,size_min-1,10),error,'.')\n",
    "plt.title('test error vs. number of singular values')\n",
    "plt.legend();"
   ]
  },
  {
   "cell_type": "markdown",
   "metadata": {},
   "source": [
    "So, ~15 singular values is the best choice, even though 5 might be better after regularization, since you do not gain much from 5 to 15"
   ]
  },
  {
   "cell_type": "code",
   "execution_count": 35,
   "metadata": {},
   "outputs": [
    {
     "data": {
      "text/plain": [
       "<matplotlib.lines.Line2D at 0x7f6ff00360f0>"
      ]
     },
     "execution_count": 35,
     "metadata": {},
     "output_type": "execute_result"
    },
    {
     "data": {
      "image/png": "[encoded data removed]",
      "text/plain": [
       "<matplotlib.figure.Figure at 0x7f6fd454b828>"
      ]
     },
     "metadata": {},
     "output_type": "display_data"
    }
   ],
   "source": [
    "plt.plot(s[:20],'o');\n",
    "plt.axvline(4.5)\n",
    "plt.axvline(14.5)"
   ]
  },
  {
   "cell_type": "markdown",
   "metadata": {},
   "source": [
    "## Surprise "
   ]
  },
  {
   "cell_type": "code",
   "execution_count": 36,
   "metadata": {},
   "outputs": [],
   "source": [
    "from surprise import SVD\n",
    "from surprise import Dataset\n",
    "from surprise import evaluate, print_perf\n",
    "from surprise.prediction_algorithms.random_pred import NormalPredictor\n",
    "from surprise.prediction_algorithms.baseline_only import BaselineOnly"
   ]
  },
  {
   "cell_type": "code",
   "execution_count": 265,
   "metadata": {},
   "outputs": [],
   "source": [
    " Dataset.load_builtin?"
   ]
  },
  {
   "cell_type": "code",
   "execution_count": 270,
   "metadata": {},
   "outputs": [],
   "source": [
    "data = Dataset.load_builtin('ml-100k')\n",
    "#data = Dataset.load_builtin('ml-1m')\n",
    "data.split(n_folds=4)"
   ]
  },
  {
   "cell_type": "code",
   "execution_count": 38,
   "metadata": {},
   "outputs": [],
   "source": [
    "import surprise\n",
    "surprise.model_selection.search.GridSearchCV?"
   ]
  },
  {
   "cell_type": "code",
   "execution_count": 39,
   "metadata": {},
   "outputs": [
    {
     "name": "stderr",
     "output_type": "stream",
     "text": [
      "[Parallel(n_jobs=1)]: Done   1 out of   1 | elapsed:    5.2s remaining:    0.0s\n",
      "[Parallel(n_jobs=1)]: Done   2 out of   2 | elapsed:   10.4s remaining:    0.0s\n",
      "[Parallel(n_jobs=1)]: Done   3 out of   3 | elapsed:   15.5s remaining:    0.0s\n",
      "[Parallel(n_jobs=1)]: Done   4 out of   4 | elapsed:   20.7s remaining:    0.0s\n",
      "[Parallel(n_jobs=1)]: Done   5 out of   5 | elapsed:   25.9s remaining:    0.0s\n",
      "[Parallel(n_jobs=1)]: Done   6 out of   6 | elapsed:   31.0s remaining:    0.0s\n",
      "[Parallel(n_jobs=1)]: Done   7 out of   7 | elapsed:   36.2s remaining:    0.0s\n",
      "[Parallel(n_jobs=1)]: Done   8 out of   8 | elapsed:   41.3s remaining:    0.0s\n",
      "[Parallel(n_jobs=1)]: Done   9 out of   9 | elapsed:   46.4s remaining:    0.0s\n",
      "[Parallel(n_jobs=1)]: Done  54 out of  54 | elapsed:  7.2min finished\n"
     ]
    }
   ],
   "source": [
    "#from sklearn.model_selection import RandomizedSearchCV, GridSearchCV\n",
    "import scipy\n",
    "import numpy as np\n",
    "import surprise\n",
    "\n",
    "params={'n_factors':(200,300,400),\n",
    " #      'n_epochs':(10,50,100),\n",
    "      # 'biased':(True,False),\n",
    "       'lr_all':(0.02,0.04,0.06),\n",
    "       'reg_all':(0.05,0.1,0.2)}\n",
    "\n",
    "grid=surprise.model_selection.search.GridSearchCV(SVD, params,cv=4 measures=['rmse','fcp'], n_jobs=1, joblib_verbose=10,refit=True)\n",
    "grid.fit(data)"
   ]
  },
  {
   "cell_type": "code",
   "execution_count": 161,
   "metadata": {},
   "outputs": [
    {
     "name": "stdout",
     "output_type": "stream",
     "text": [
      "{'rmse': 0.9341772715478418, 'fcp': 0.7145271445328556}\n"
     ]
    },
    {
     "data": {
      "text/plain": [
       "{'fcp': {'lr_all': 0.02, 'n_factors': 400, 'reg_all': 0.1},\n",
       " 'rmse': {'lr_all': 0.02, 'n_factors': 300, 'reg_all': 0.1}}"
      ]
     },
     "execution_count": 161,
     "metadata": {},
     "output_type": "execute_result"
    }
   ],
   "source": [
    "print(grid.best_score)\n",
    "grid.best_params"
   ]
  },
  {
   "cell_type": "code",
   "execution_count": 162,
   "metadata": {},
   "outputs": [],
   "source": [
    "SVD?"
   ]
  },
  {
   "cell_type": "code",
   "execution_count": 163,
   "metadata": {},
   "outputs": [
    {
     "name": "stderr",
     "output_type": "stream",
     "text": [
      "[Parallel(n_jobs=1)]: Done   1 out of   1 | elapsed:    1.5s remaining:    0.0s\n",
      "[Parallel(n_jobs=1)]: Done   2 out of   2 | elapsed:    3.0s remaining:    0.0s\n",
      "[Parallel(n_jobs=1)]: Done   3 out of   3 | elapsed:    4.6s remaining:    0.0s\n",
      "[Parallel(n_jobs=1)]: Done   4 out of   4 | elapsed:    6.1s remaining:    0.0s\n",
      "[Parallel(n_jobs=1)]: Done   5 out of   5 | elapsed:    7.9s remaining:    0.0s\n",
      "[Parallel(n_jobs=1)]: Done   6 out of   6 | elapsed:    9.7s remaining:    0.0s\n",
      "[Parallel(n_jobs=1)]: Done   7 out of   7 | elapsed:   11.3s remaining:    0.0s\n",
      "[Parallel(n_jobs=1)]: Done   8 out of   8 | elapsed:   13.1s remaining:    0.0s\n",
      "[Parallel(n_jobs=1)]: Done   9 out of   9 | elapsed:   14.7s remaining:    0.0s\n",
      "[Parallel(n_jobs=1)]: Done 116 out of 116 | elapsed:  7.6min finished\n"
     ]
    }
   ],
   "source": [
    "params3={'n_factors':(1,2,3,4,5,6,7,8,9,10,11,12,13,14,15,20,30,40,50,60,70,80,90,100,150,200,300,400,500),\n",
    " #      'n_epochs':(10,50,100),\n",
    "      # 'biased':(True,False),\n",
    "     #  'lr_all':(0.005,),\n",
    "       'reg_all':(0,)}\n",
    "\n",
    "grid3=surprise.model_selection.search.GridSearchCV(SVD, params3,cv=4, measures=['rmse','fcp'], n_jobs=1, joblib_verbose=10,refit=True)\n",
    "grid3.fit(data)"
   ]
  },
  {
   "cell_type": "code",
   "execution_count": 58,
   "metadata": {},
   "outputs": [
    {
     "data": {
      "text/plain": [
       "[<matplotlib.lines.Line2D at 0x7f6fcb798f28>]"
      ]
     },
     "execution_count": 58,
     "metadata": {},
     "output_type": "execute_result"
    },
    {
     "data": {
      "image/png": "[encoded data removed]",
      "text/plain": [
       "<matplotlib.figure.Figure at 0x7f6fcbb73cf8>"
      ]
     },
     "metadata": {},
     "output_type": "display_data"
    }
   ],
   "source": [
    "plt.plot(grid3.cv_results['param_n_factors'],grid3.cv_results['mean_test_rmse'],'o')"
   ]
  },
  {
   "cell_type": "code",
   "execution_count": 59,
   "metadata": {},
   "outputs": [
    {
     "data": {
      "text/plain": [
       "{'mean_fit_time': array([ 0.7477653 ,  0.82153487,  0.9382602 ,  0.85085738,  0.86140013,\n",
       "         0.8816781 ,  0.97905946,  1.00105667,  0.96009636,  0.97875822,\n",
       "         0.96892071,  1.02398252,  1.02763402,  1.05145168,  1.06203091,\n",
       "         1.15049279,  1.42831397,  1.59495449,  1.65917504,  1.86418533,\n",
       "         1.96378875,  2.18324232,  2.5254308 ,  2.54041183,  3.32049155,\n",
       "         4.10180628,  6.58411086, 10.31813014, 13.79246509]),\n",
       " 'mean_test_fcp': array([0.69558442, 0.68874808, 0.67926695, 0.67380542, 0.66611311,\n",
       "        0.66077287, 0.65839952, 0.65281595, 0.64961487, 0.64430834,\n",
       "        0.6427818 , 0.64204419, 0.63494977, 0.63267841, 0.62827185,\n",
       "        0.61520419, 0.60494597, 0.60100423, 0.61300395, 0.62299104,\n",
       "        0.6328463 , 0.63881194, 0.64558201, 0.65007712, 0.65997554,\n",
       "        0.66762121, 0.66961186, 0.67560708, 0.67692923]),\n",
       " 'mean_test_rmse': array([0.98590133, 1.00867608, 1.03818619, 1.0654375 , 1.08678798,\n",
       "        1.1032069 , 1.12547625, 1.1412519 , 1.15622236, 1.17344937,\n",
       "        1.18200572, 1.19714355, 1.21067935, 1.22569972, 1.23051936,\n",
       "        1.27378208, 1.30577465, 1.27651736, 1.20516213, 1.14714057,\n",
       "        1.10609289, 1.08029759, 1.06056546, 1.04593661, 1.01311049,\n",
       "        0.99717543, 0.98521859, 0.97861431, 0.9772339 ]),\n",
       " 'mean_test_time': array([0.34593451, 0.33748531, 0.35457695, 0.33800995, 0.33078349,\n",
       "        0.34552884, 0.34007108, 0.34828424, 0.34640002, 0.43238103,\n",
       "        0.32376266, 0.32501292, 0.32333457, 0.31518865, 0.34877324,\n",
       "        0.33508027, 0.33644652, 0.32597244, 0.33886218, 0.36488271,\n",
       "        0.32429051, 0.37911594, 0.36818492, 0.32164955, 0.33851421,\n",
       "        0.33391821, 0.35253954, 0.36620009, 0.41600966]),\n",
       " 'param_lr_all': [0.1,\n",
       "  0.1,\n",
       "  0.1,\n",
       "  0.1,\n",
       "  0.1,\n",
       "  0.1,\n",
       "  0.1,\n",
       "  0.1,\n",
       "  0.1,\n",
       "  0.1,\n",
       "  0.1,\n",
       "  0.1,\n",
       "  0.1,\n",
       "  0.1,\n",
       "  0.1,\n",
       "  0.1,\n",
       "  0.1,\n",
       "  0.1,\n",
       "  0.1,\n",
       "  0.1,\n",
       "  0.1,\n",
       "  0.1,\n",
       "  0.1,\n",
       "  0.1,\n",
       "  0.1,\n",
       "  0.1,\n",
       "  0.1,\n",
       "  0.1,\n",
       "  0.1],\n",
       " 'param_n_factors': [1,\n",
       "  2,\n",
       "  3,\n",
       "  4,\n",
       "  5,\n",
       "  6,\n",
       "  7,\n",
       "  8,\n",
       "  9,\n",
       "  10,\n",
       "  11,\n",
       "  12,\n",
       "  13,\n",
       "  14,\n",
       "  15,\n",
       "  20,\n",
       "  30,\n",
       "  40,\n",
       "  50,\n",
       "  60,\n",
       "  70,\n",
       "  80,\n",
       "  90,\n",
       "  100,\n",
       "  150,\n",
       "  200,\n",
       "  300,\n",
       "  400,\n",
       "  500],\n",
       " 'param_reg_all': [0,\n",
       "  0,\n",
       "  0,\n",
       "  0,\n",
       "  0,\n",
       "  0,\n",
       "  0,\n",
       "  0,\n",
       "  0,\n",
       "  0,\n",
       "  0,\n",
       "  0,\n",
       "  0,\n",
       "  0,\n",
       "  0,\n",
       "  0,\n",
       "  0,\n",
       "  0,\n",
       "  0,\n",
       "  0,\n",
       "  0,\n",
       "  0,\n",
       "  0,\n",
       "  0,\n",
       "  0,\n",
       "  0,\n",
       "  0,\n",
       "  0,\n",
       "  0],\n",
       " 'params': [{'lr_all': 0.1, 'n_factors': 1, 'reg_all': 0},\n",
       "  {'lr_all': 0.1, 'n_factors': 2, 'reg_all': 0},\n",
       "  {'lr_all': 0.1, 'n_factors': 3, 'reg_all': 0},\n",
       "  {'lr_all': 0.1, 'n_factors': 4, 'reg_all': 0},\n",
       "  {'lr_all': 0.1, 'n_factors': 5, 'reg_all': 0},\n",
       "  {'lr_all': 0.1, 'n_factors': 6, 'reg_all': 0},\n",
       "  {'lr_all': 0.1, 'n_factors': 7, 'reg_all': 0},\n",
       "  {'lr_all': 0.1, 'n_factors': 8, 'reg_all': 0},\n",
       "  {'lr_all': 0.1, 'n_factors': 9, 'reg_all': 0},\n",
       "  {'lr_all': 0.1, 'n_factors': 10, 'reg_all': 0},\n",
       "  {'lr_all': 0.1, 'n_factors': 11, 'reg_all': 0},\n",
       "  {'lr_all': 0.1, 'n_factors': 12, 'reg_all': 0},\n",
       "  {'lr_all': 0.1, 'n_factors': 13, 'reg_all': 0},\n",
       "  {'lr_all': 0.1, 'n_factors': 14, 'reg_all': 0},\n",
       "  {'lr_all': 0.1, 'n_factors': 15, 'reg_all': 0},\n",
       "  {'lr_all': 0.1, 'n_factors': 20, 'reg_all': 0},\n",
       "  {'lr_all': 0.1, 'n_factors': 30, 'reg_all': 0},\n",
       "  {'lr_all': 0.1, 'n_factors': 40, 'reg_all': 0},\n",
       "  {'lr_all': 0.1, 'n_factors': 50, 'reg_all': 0},\n",
       "  {'lr_all': 0.1, 'n_factors': 60, 'reg_all': 0},\n",
       "  {'lr_all': 0.1, 'n_factors': 70, 'reg_all': 0},\n",
       "  {'lr_all': 0.1, 'n_factors': 80, 'reg_all': 0},\n",
       "  {'lr_all': 0.1, 'n_factors': 90, 'reg_all': 0},\n",
       "  {'lr_all': 0.1, 'n_factors': 100, 'reg_all': 0},\n",
       "  {'lr_all': 0.1, 'n_factors': 150, 'reg_all': 0},\n",
       "  {'lr_all': 0.1, 'n_factors': 200, 'reg_all': 0},\n",
       "  {'lr_all': 0.1, 'n_factors': 300, 'reg_all': 0},\n",
       "  {'lr_all': 0.1, 'n_factors': 400, 'reg_all': 0},\n",
       "  {'lr_all': 0.1, 'n_factors': 500, 'reg_all': 0}],\n",
       " 'rank_test_fcp': array([29, 28, 27, 24, 21, 20, 18, 17, 15, 13, 12, 11,  9,  7,  6,  4,  2,\n",
       "         1,  3,  5,  8, 10, 14, 16, 19, 22, 23, 25, 26]),\n",
       " 'rank_test_rmse': array([ 4,  6,  8, 11, 13, 14, 16, 17, 19, 20, 21, 22, 24, 25, 26, 27, 29,\n",
       "        28, 23, 18, 15, 12, 10,  9,  7,  5,  3,  2,  1]),\n",
       " 'split0_test_fcp': array([0.69375668, 0.68800272, 0.67645895, 0.67368714, 0.66725034,\n",
       "        0.65983268, 0.66038477, 0.65684336, 0.64991421, 0.64579517,\n",
       "        0.64301835, 0.63963784, 0.63456379, 0.63310219, 0.62986757,\n",
       "        0.61808005, 0.60451621, 0.60160064, 0.6139827 , 0.62422764,\n",
       "        0.63204202, 0.64087786, 0.64387933, 0.65043164, 0.6610707 ,\n",
       "        0.66890968, 0.67015338, 0.67549177, 0.67595628]),\n",
       " 'split0_test_rmse': array([0.99006115, 1.01285594, 1.04460759, 1.06588265, 1.08668104,\n",
       "        1.10574814, 1.12629397, 1.13934681, 1.15722531, 1.17229816,\n",
       "        1.18430359, 1.19934296, 1.21261184, 1.22691938, 1.2360911 ,\n",
       "        1.27548761, 1.31254125, 1.27815334, 1.20728487, 1.1490571 ,\n",
       "        1.10852527, 1.07884254, 1.06259371, 1.04778627, 1.01368532,\n",
       "        0.99814928, 0.98590758, 0.98052001, 0.97984975]),\n",
       " 'split1_test_fcp': array([0.69741215, 0.68949343, 0.68207495, 0.6739237 , 0.66497587,\n",
       "        0.66171306, 0.65641427, 0.64878854, 0.64931554, 0.64282152,\n",
       "        0.64254526, 0.64445053, 0.63533574, 0.63225463, 0.62667613,\n",
       "        0.61232833, 0.60537573, 0.60040781, 0.61202519, 0.62175445,\n",
       "        0.63365057, 0.63674602, 0.6472847 , 0.6497226 , 0.65888038,\n",
       "        0.66633275, 0.66907034, 0.6757224 , 0.67790219]),\n",
       " 'split1_test_rmse': array([0.9817415 , 1.00449622, 1.03176479, 1.06499235, 1.08689491,\n",
       "        1.10066565, 1.12465854, 1.143157  , 1.15521941, 1.17460059,\n",
       "        1.17970785, 1.19494414, 1.20874686, 1.22448006, 1.22494762,\n",
       "        1.27207655, 1.29900805, 1.27488138, 1.2030394 , 1.14522404,\n",
       "        1.10366051, 1.08175265, 1.0585372 , 1.04408696, 1.01253567,\n",
       "        0.99620158, 0.98452959, 0.97670862, 0.97461806]),\n",
       " 'std_fit_time': array([0.02828884, 0.0123322 , 0.10068381, 0.00201356, 0.00048923,\n",
       "        0.00789595, 0.01097178, 0.02815127, 0.01251554, 0.04179108,\n",
       "        0.01316285, 0.03997469, 0.01891649, 0.04273295, 0.0029    ,\n",
       "        0.00629842, 0.04819155, 0.00296855, 0.00871623, 0.02702618,\n",
       "        0.02525473, 0.0254941 , 0.11266005, 0.06372416, 0.02792811,\n",
       "        0.00258696, 0.02393949, 0.22106326, 0.15033829]),\n",
       " 'std_test_fcp': array([0.00182774, 0.00074535, 0.002808  , 0.00011828, 0.00113724,\n",
       "        0.00094019, 0.00198525, 0.00402741, 0.00029934, 0.00148682,\n",
       "        0.00023655, 0.00240635, 0.00038598, 0.00042378, 0.00159572,\n",
       "        0.00287586, 0.00042976, 0.00059642, 0.00097876, 0.0012366 ,\n",
       "        0.00080427, 0.00206592, 0.00170268, 0.00035452, 0.00109516,\n",
       "        0.00128847, 0.00054152, 0.00011531, 0.00097296]),\n",
       " 'std_test_rmse': array([0.00415982, 0.00417986, 0.0064214 , 0.00044515, 0.00010694,\n",
       "        0.00254124, 0.00081772, 0.00190509, 0.00100295, 0.00115122,\n",
       "        0.00229787, 0.00219941, 0.00193249, 0.00121966, 0.00557174,\n",
       "        0.00170553, 0.0067666 , 0.00163598, 0.00212274, 0.00191653,\n",
       "        0.00243238, 0.00145506, 0.00202825, 0.00184965, 0.00057482,\n",
       "        0.00097385, 0.00068899, 0.0019057 , 0.00261585]),\n",
       " 'std_test_time': array([0.05843413, 0.06676698, 0.0318383 , 0.04664767, 0.0502094 ,\n",
       "        0.05986118, 0.05339968, 0.03043413, 0.03484726, 0.07298672,\n",
       "        0.04837298, 0.04870129, 0.05223906, 0.03955364, 0.07548714,\n",
       "        0.03474009, 0.03821898, 0.04915893, 0.06269336, 0.00332117,\n",
       "        0.04491043, 0.05536878, 0.04299963, 0.04390645, 0.03611529,\n",
       "        0.05152977, 0.0328126 , 0.04655039, 0.00559497])}"
      ]
     },
     "execution_count": 59,
     "metadata": {},
     "output_type": "execute_result"
    }
   ],
   "source": [
    "grid3.cv_results"
   ]
  },
  {
   "cell_type": "code",
   "execution_count": 41,
   "metadata": {
    "scrolled": true
   },
   "outputs": [
    {
     "name": "stdout",
     "output_type": "stream",
     "text": [
      "Computing the msd similarity matrix...\n",
      "Done computing similarity matrix.\n"
     ]
    },
    {
     "name": "stderr",
     "output_type": "stream",
     "text": [
      "[Parallel(n_jobs=1)]: Done   1 out of   1 | elapsed:    4.9s remaining:    0.0s\n"
     ]
    },
    {
     "name": "stdout",
     "output_type": "stream",
     "text": [
      "Computing the msd similarity matrix...\n"
     ]
    },
    {
     "name": "stderr",
     "output_type": "stream",
     "text": [
      "[Parallel(n_jobs=1)]: Done   2 out of   2 | elapsed:    9.7s remaining:    0.0s\n"
     ]
    },
    {
     "name": "stdout",
     "output_type": "stream",
     "text": [
      "Done computing similarity matrix.\n",
      "Computing the msd similarity matrix...\n"
     ]
    },
    {
     "name": "stderr",
     "output_type": "stream",
     "text": [
      "[Parallel(n_jobs=1)]: Done   3 out of   3 | elapsed:   15.0s remaining:    0.0s\n"
     ]
    },
    {
     "name": "stdout",
     "output_type": "stream",
     "text": [
      "Done computing similarity matrix.\n",
      "Computing the msd similarity matrix...\n",
      "Done computing similarity matrix.\n"
     ]
    },
    {
     "name": "stderr",
     "output_type": "stream",
     "text": [
      "[Parallel(n_jobs=1)]: Done   4 out of   4 | elapsed:   20.2s remaining:    0.0s\n"
     ]
    },
    {
     "name": "stdout",
     "output_type": "stream",
     "text": [
      "Computing the msd similarity matrix...\n"
     ]
    },
    {
     "name": "stderr",
     "output_type": "stream",
     "text": [
      "[Parallel(n_jobs=1)]: Done   5 out of   5 | elapsed:   25.8s remaining:    0.0s\n"
     ]
    },
    {
     "name": "stdout",
     "output_type": "stream",
     "text": [
      "Done computing similarity matrix.\n",
      "Computing the msd similarity matrix...\n"
     ]
    },
    {
     "name": "stderr",
     "output_type": "stream",
     "text": [
      "[Parallel(n_jobs=1)]: Done   6 out of   6 | elapsed:   31.3s remaining:    0.0s\n"
     ]
    },
    {
     "name": "stdout",
     "output_type": "stream",
     "text": [
      "Done computing similarity matrix.\n",
      "Computing the msd similarity matrix...\n"
     ]
    },
    {
     "name": "stderr",
     "output_type": "stream",
     "text": [
      "[Parallel(n_jobs=1)]: Done   7 out of   7 | elapsed:   37.1s remaining:    0.0s\n"
     ]
    },
    {
     "name": "stdout",
     "output_type": "stream",
     "text": [
      "Done computing similarity matrix.\n",
      "Computing the msd similarity matrix...\n"
     ]
    },
    {
     "name": "stderr",
     "output_type": "stream",
     "text": [
      "[Parallel(n_jobs=1)]: Done   8 out of   8 | elapsed:   43.2s remaining:    0.0s\n"
     ]
    },
    {
     "name": "stdout",
     "output_type": "stream",
     "text": [
      "Done computing similarity matrix.\n",
      "Computing the msd similarity matrix...\n",
      "Done computing similarity matrix.\n"
     ]
    },
    {
     "name": "stderr",
     "output_type": "stream",
     "text": [
      "[Parallel(n_jobs=1)]: Done   9 out of   9 | elapsed:   49.3s remaining:    0.0s\n"
     ]
    },
    {
     "name": "stdout",
     "output_type": "stream",
     "text": [
      "Computing the msd similarity matrix...\n",
      "Done computing similarity matrix.\n",
      "Computing the msd similarity matrix...\n",
      "Done computing similarity matrix.\n",
      "Computing the msd similarity matrix...\n",
      "Done computing similarity matrix.\n",
      "Computing the msd similarity matrix...\n",
      "Done computing similarity matrix.\n",
      "Computing the msd similarity matrix...\n",
      "Done computing similarity matrix.\n",
      "Computing the msd similarity matrix...\n",
      "Done computing similarity matrix.\n",
      "Computing the msd similarity matrix...\n",
      "Done computing similarity matrix.\n",
      "Computing the msd similarity matrix...\n",
      "Done computing similarity matrix.\n",
      "Computing the msd similarity matrix...\n",
      "Done computing similarity matrix.\n",
      "Computing the msd similarity matrix...\n",
      "Done computing similarity matrix.\n",
      "Computing the msd similarity matrix...\n",
      "Done computing similarity matrix.\n",
      "Computing the msd similarity matrix...\n",
      "Done computing similarity matrix.\n",
      "Computing the msd similarity matrix...\n",
      "Done computing similarity matrix.\n",
      "Computing the msd similarity matrix...\n",
      "Done computing similarity matrix.\n",
      "Computing the msd similarity matrix...\n",
      "Done computing similarity matrix.\n",
      "Computing the msd similarity matrix...\n",
      "Done computing similarity matrix.\n",
      "Computing the msd similarity matrix...\n",
      "Done computing similarity matrix.\n",
      "Computing the msd similarity matrix...\n",
      "Done computing similarity matrix.\n",
      "Computing the msd similarity matrix...\n",
      "Done computing similarity matrix.\n",
      "Computing the msd similarity matrix...\n",
      "Done computing similarity matrix.\n",
      "Computing the msd similarity matrix...\n",
      "Done computing similarity matrix.\n",
      "Computing the msd similarity matrix...\n",
      "Done computing similarity matrix.\n",
      "Computing the msd similarity matrix...\n",
      "Done computing similarity matrix.\n",
      "Computing the msd similarity matrix...\n",
      "Done computing similarity matrix.\n",
      "Computing the msd similarity matrix...\n",
      "Done computing similarity matrix.\n",
      "Computing the msd similarity matrix...\n",
      "Done computing similarity matrix.\n",
      "Computing the msd similarity matrix...\n",
      "Done computing similarity matrix.\n",
      "Computing the msd similarity matrix...\n",
      "Done computing similarity matrix.\n",
      "Computing the msd similarity matrix...\n",
      "Done computing similarity matrix.\n",
      "Computing the msd similarity matrix...\n",
      "Done computing similarity matrix.\n",
      "Computing the msd similarity matrix...\n",
      "Done computing similarity matrix.\n",
      "Computing the msd similarity matrix...\n",
      "Done computing similarity matrix.\n",
      "Computing the msd similarity matrix...\n",
      "Done computing similarity matrix.\n",
      "Computing the msd similarity matrix...\n",
      "Done computing similarity matrix.\n",
      "Computing the msd similarity matrix...\n",
      "Done computing similarity matrix.\n",
      "Computing the msd similarity matrix...\n",
      "Done computing similarity matrix.\n",
      "Computing the msd similarity matrix...\n",
      "Done computing similarity matrix.\n",
      "Computing the msd similarity matrix...\n",
      "Done computing similarity matrix.\n",
      "Computing the msd similarity matrix...\n",
      "Done computing similarity matrix.\n",
      "Computing the msd similarity matrix...\n",
      "Done computing similarity matrix.\n",
      "Computing the msd similarity matrix...\n",
      "Done computing similarity matrix.\n",
      "Computing the msd similarity matrix...\n",
      "Done computing similarity matrix.\n",
      "Computing the msd similarity matrix...\n",
      "Done computing similarity matrix.\n",
      "Computing the msd similarity matrix...\n",
      "Done computing similarity matrix.\n",
      "Computing the msd similarity matrix...\n",
      "Done computing similarity matrix.\n",
      "Computing the msd similarity matrix...\n",
      "Done computing similarity matrix.\n",
      "Computing the msd similarity matrix...\n",
      "Done computing similarity matrix.\n",
      "Computing the msd similarity matrix...\n",
      "Done computing similarity matrix.\n",
      "Computing the msd similarity matrix...\n",
      "Done computing similarity matrix.\n",
      "Computing the msd similarity matrix...\n",
      "Done computing similarity matrix.\n",
      "Computing the msd similarity matrix...\n",
      "Done computing similarity matrix.\n"
     ]
    },
    {
     "name": "stderr",
     "output_type": "stream",
     "text": [
      "[Parallel(n_jobs=1)]: Done  60 out of  60 | elapsed:  5.6min finished\n"
     ]
    },
    {
     "name": "stdout",
     "output_type": "stream",
     "text": [
      "Computing the msd similarity matrix...\n",
      "Done computing similarity matrix.\n"
     ]
    }
   ],
   "source": [
    "from surprise import KNNBasic\n",
    "params2={'k':(20,30,40,50,70,100),\n",
    "       'min_k':(1,2,3,4,5),}\n",
    "\n",
    "grid2=surprise.model_selection.search.GridSearchCV(KNNBasic, params2,cv=2, measures=['rmse','fcp'], n_jobs=1, joblib_verbose=10,refit=True)\n",
    "grid2.fit(data)"
   ]
  },
  {
   "cell_type": "code",
   "execution_count": 164,
   "metadata": {},
   "outputs": [
    {
     "name": "stdout",
     "output_type": "stream",
     "text": [
      "{'rmse': 1.0021961063072742, 'fcp': 0.7080452097606897}\n"
     ]
    },
    {
     "data": {
      "text/plain": [
       "{'fcp': {'k': 50, 'min_k': 1}, 'rmse': {'k': 30, 'min_k': 2}}"
      ]
     },
     "execution_count": 164,
     "metadata": {},
     "output_type": "execute_result"
    }
   ],
   "source": [
    "print(grid2.best_score)\n",
    "grid2.best_params"
   ]
  },
  {
   "cell_type": "code",
   "execution_count": null,
   "metadata": {},
   "outputs": [],
   "source": [
    "classes = (SVD, SVDpp, NMF, SlopeOne, KNNBasic, KNNWithMeans, KNNBaseline,\n",
    "CoClustering, BaselineOnly, NormalPredictor)\n",
    "\n",
    "\n",
    "table = []\n",
    "for klass in classes:\n",
    "    start = time.time()\n",
    "    out = cross_validate(klass(), data, ['rmse', 'mae'], kf)\n",
    "    cv_time = str(datetime.timedelta(seconds=int(time.time() - start)))\n",
    "    link = LINK[klass.__name__]\n",
    "    mean_rmse = '{:.3f}'.format(np.mean(out['test_rmse']))\n",
    "    mean_mae = '{:.3f}'.format(np.mean(out['test_mae']))\n",
    "\n",
    "    new_line = [link, mean_rmse, mean_mae, cv_time]\n",
    "    print(tabulate([new_line], tablefmt=\"pipe\"))  # print current algo perf\n",
    "    table.append(new_line)\n",
    "\n",
    "header = [LINK[dataset],\n",
    "          'RMSE',\n",
    "          'MAE',\n",
    "          'Time'\n",
    "          ]\n",
    "print(tabulate(table, header, tablefmt=\"pipe\"))"
   ]
  },
  {
   "cell_type": "code",
   "execution_count": 103,
   "metadata": {},
   "outputs": [],
   "source": [
    "data.split(n_folds=4)"
   ]
  },
  {
   "cell_type": "code",
   "execution_count": 104,
   "metadata": {},
   "outputs": [
    {
     "name": "stderr",
     "output_type": "stream",
     "text": [
      "/scratch/baruselli/inst/intelpython35/lib/python3.5/site-packages/surprise/evaluate.py:66: UserWarning: The evaluate() method is deprecated. Please use model_selection.cross_validate() instead.\n",
      "  'model_selection.cross_validate() instead.', UserWarning)\n",
      "/scratch/baruselli/inst/intelpython35/lib/python3.5/site-packages/surprise/dataset.py:193: UserWarning: Using data.split() or using load_from_folds() without using a CV iterator is now deprecated. \n",
      "  UserWarning)\n"
     ]
    },
    {
     "name": "stdout",
     "output_type": "stream",
     "text": [
      "Evaluating RMSE, MAE, FCP of algorithm SVD.\n",
      "\n",
      "------------\n",
      "Fold 1\n",
      "RMSE: 0.9430\n",
      "MAE:  0.7426\n",
      "FCP:  0.7022\n",
      "------------\n",
      "Fold 2\n",
      "RMSE: 0.9404\n",
      "MAE:  0.7423\n",
      "FCP:  0.6994\n",
      "------------\n",
      "Fold 3\n",
      "RMSE: 0.9388\n",
      "MAE:  0.7423\n",
      "FCP:  0.7016\n",
      "------------\n",
      "Fold 4\n",
      "RMSE: 0.9415\n",
      "MAE:  0.7424\n",
      "FCP:  0.7004\n",
      "------------\n",
      "------------\n",
      "Mean RMSE: 0.9409\n",
      "Mean MAE : 0.7424\n",
      "Mean FCP : 0.7009\n",
      "------------\n",
      "------------\n"
     ]
    }
   ],
   "source": [
    "import surprise\n",
    "algo1 = SVD()\n",
    "\n",
    "# Evaluate performances of our algorithm on the dataset.\n",
    "perf1 = surprise.evaluate(algo1, data, measures=['RMSE', 'MAE','FCP'])"
   ]
  },
  {
   "cell_type": "code",
   "execution_count": 105,
   "metadata": {},
   "outputs": [
    {
     "name": "stderr",
     "output_type": "stream",
     "text": [
      "/scratch/baruselli/inst/intelpython35/lib/python3.5/site-packages/surprise/evaluate.py:66: UserWarning: The evaluate() method is deprecated. Please use model_selection.cross_validate() instead.\n",
      "  'model_selection.cross_validate() instead.', UserWarning)\n",
      "/scratch/baruselli/inst/intelpython35/lib/python3.5/site-packages/surprise/dataset.py:193: UserWarning: Using data.split() or using load_from_folds() without using a CV iterator is now deprecated. \n",
      "  UserWarning)\n"
     ]
    },
    {
     "name": "stdout",
     "output_type": "stream",
     "text": [
      "Evaluating RMSE, MAE, FCP of algorithm BaselineOnly.\n",
      "\n",
      "------------\n",
      "Fold 1\n",
      "Estimating biases using als...\n",
      "RMSE: 0.9493\n",
      "MAE:  0.7518\n",
      "FCP:  0.6976\n",
      "------------\n",
      "Fold 2\n",
      "Estimating biases using als...\n",
      "RMSE: 0.9425\n",
      "MAE:  0.7468\n",
      "FCP:  0.7018\n",
      "------------\n",
      "Fold 3\n",
      "Estimating biases using als...\n",
      "RMSE: 0.9438\n",
      "MAE:  0.7505\n",
      "FCP:  0.7004\n",
      "------------\n",
      "Fold 4\n",
      "Estimating biases using als...\n",
      "RMSE: 0.9464\n",
      "MAE:  0.7496\n",
      "FCP:  0.6983\n",
      "------------\n",
      "------------\n",
      "Mean RMSE: 0.9455\n",
      "Mean MAE : 0.7497\n",
      "Mean FCP : 0.6995\n",
      "------------\n",
      "------------\n",
      "        Fold 1  Fold 2  Fold 3  Fold 4  Mean    \n",
      "RMSE    0.9493  0.9425  0.9438  0.9464  0.9455  \n",
      "FCP     0.6976  0.7018  0.7004  0.6983  0.6995  \n",
      "MAE     0.7518  0.7468  0.7505  0.7496  0.7497  \n"
     ]
    }
   ],
   "source": [
    "algo3 = BaselineOnly()\n",
    "\n",
    "# Evaluate performances of our algorithm on the dataset.\n",
    "perf3 = evaluate(algo3, data, measures=['RMSE', 'MAE','FCP'])\n",
    "\n",
    "print_perf(perf3)"
   ]
  },
  {
   "cell_type": "markdown",
   "metadata": {},
   "source": [
    "## implement pure SVD in surprise (no regularization)"
   ]
  },
  {
   "cell_type": "code",
   "execution_count": 271,
   "metadata": {},
   "outputs": [],
   "source": [
    "from surprise import AlgoBase\n",
    "from surprise import Dataset\n",
    "from surprise.model_selection import cross_validate\n",
    "\n",
    "class poorman_SVD(AlgoBase):\n",
    "\n",
    "    def __init__(self,n_factors=10,biased=True,verbose=True,NMF=False):\n",
    "\n",
    "        # Always call base method before doing anything.\n",
    "        AlgoBase.__init__(self)\n",
    "        self.k=n_factors\n",
    "        self.biased=biased\n",
    "        self.verbose=verbose\n",
    "        self.do_NMF=NMF\n",
    "        if(self.do_NMF): self.biased=False\n",
    "\n",
    "    def fit(self, trainset):\n",
    "\n",
    "        # Here again: call base method before doing anything.\n",
    "        AlgoBase.fit(self, trainset)\n",
    "        \n",
    "        import numpy as np\n",
    "        from  scipy.sparse import coo_matrix\n",
    "\n",
    "        #baselines\n",
    "        if (self.biased): self.bu, self.bi = self.compute_baselines()\n",
    "        self.mean=trainset.global_mean\n",
    "        \n",
    "        #SVD part\n",
    "        if(self.k>0):\n",
    "            \n",
    "            #builds sparse matrix\n",
    "            if (self.biased): self.ratings=np.array([r-self.mean-self.bu[u]-self.bi[i] for (u, i, r) in self.trainset.all_ratings()])\n",
    "            else:             self.ratings=np.array([r                                 for (_, _, r) in self.trainset.all_ratings()])\n",
    "            self.users=np.array([u for (u, _, _) in self.trainset.all_ratings()])\n",
    "            self.items=np.array([i for (_, i, _) in self.trainset.all_ratings()])\n",
    "            self.user_item=coo_matrix((self.ratings,(self.users,self.items)))\n",
    "\n",
    "            #performs SVD on sparse matrix\n",
    "            if(not self.do_NMF):\n",
    "                if (self.verbose): print('performing SVD with n_factors=', self.k)\n",
    "                from  scipy.sparse.linalg import svds\n",
    "                self.U,self.s,self.VT=svds(self.user_item,k=self.k)\n",
    "                self.S = np.diag(self.s)\n",
    "                #reconstruct the rating matrix (which is a full matrix n_user*n_items, \n",
    "                #good for estimate speed, bad for memory)\n",
    "                #(this should be technically in the estimate part)\n",
    "                self.pred_rat=np.dot(self.U, np.dot(self.S, self.VT))\n",
    "\n",
    "                    \n",
    "            #performs NMF on full matrix (don\"t know if there is a version for sparse matrices)\n",
    "            else:\n",
    "                if (self.verbose): print('performing NMF with n_factors=', self.k)\n",
    "                from sklearn.decomposition import NMF\n",
    "                self.model = NMF(n_components=self.k, init='random', random_state=0)\n",
    "                self.pred_rat = self.model.fit_transform(self.user_item.toarray())\n",
    "        \n",
    "        return self\n",
    "\n",
    "    def estimate(self, u, i):\n",
    "        try:\n",
    "            if (self.biased):return self.pred_rat[u,i]+self.mean+self.bu[u]+self.bi[i]\n",
    "            else:            return self.pred_rat[u,i] #+self.mean\n",
    "\n",
    "        except: \n",
    "            try:\n",
    "                if (self.biased):return self.mean+self.bu[u]+self.bi[i]\n",
    "                else:            return self.mean\n",
    "            except:\n",
    "                return self.mean\n",
    "\n",
    "        "
   ]
  },
  {
   "cell_type": "code",
   "execution_count": 272,
   "metadata": {},
   "outputs": [
    {
     "name": "stderr",
     "output_type": "stream",
     "text": [
      "/scratch/baruselli/inst/intelpython35/lib/python3.5/site-packages/surprise/evaluate.py:66: UserWarning: The evaluate() method is deprecated. Please use model_selection.cross_validate() instead.\n",
      "  'model_selection.cross_validate() instead.', UserWarning)\n",
      "/scratch/baruselli/inst/intelpython35/lib/python3.5/site-packages/surprise/dataset.py:193: UserWarning: Using data.split() or using load_from_folds() without using a CV iterator is now deprecated. \n",
      "  UserWarning)\n"
     ]
    },
    {
     "name": "stdout",
     "output_type": "stream",
     "text": [
      "Evaluating RMSE, MAE, FCP of algorithm poorman_SVD.\n",
      "\n",
      "------------\n",
      "Fold 1\n",
      "performing NMF with n_factors= 1\n",
      "RMSE: 1.1301\n",
      "MAE:  0.9479\n",
      "FCP:  0.0432\n",
      "------------\n",
      "Fold 2\n",
      "performing NMF with n_factors= 1\n",
      "RMSE: 1.1364\n",
      "MAE:  0.9505\n",
      "FCP:  0.0360\n",
      "------------\n",
      "Fold 3\n",
      "performing NMF with n_factors= 1\n",
      "RMSE: 1.1401\n",
      "MAE:  0.9530\n",
      "FCP:  0.0321\n",
      "------------\n",
      "Fold 4\n",
      "performing NMF with n_factors= 1\n",
      "RMSE: 1.1397\n",
      "MAE:  0.9521\n",
      "FCP:  0.0277\n",
      "------------\n",
      "------------\n",
      "Mean RMSE: 1.1366\n",
      "Mean MAE : 0.9509\n",
      "Mean FCP : 0.0348\n",
      "------------\n",
      "------------\n"
     ]
    }
   ],
   "source": [
    "algo4 = poorman_SVD(n_factors=1,biased=False, NMF=True)\n",
    "\n",
    "# Evaluate performances of our algorithm on the dataset.\n",
    "perf4 = evaluate(algo4, data, measures=['RMSE', 'MAE','FCP'])"
   ]
  },
  {
   "cell_type": "code",
   "execution_count": 273,
   "metadata": {
    "scrolled": true
   },
   "outputs": [
    {
     "name": "stdout",
     "output_type": "stream",
     "text": [
      "Estimating biases using als...\n"
     ]
    },
    {
     "name": "stderr",
     "output_type": "stream",
     "text": [
      "[Parallel(n_jobs=1)]: Done   1 out of   1 | elapsed:    0.5s remaining:    0.0s\n"
     ]
    },
    {
     "name": "stdout",
     "output_type": "stream",
     "text": [
      "Estimating biases using als...\n"
     ]
    },
    {
     "name": "stderr",
     "output_type": "stream",
     "text": [
      "[Parallel(n_jobs=1)]: Done   2 out of   2 | elapsed:    1.0s remaining:    0.0s\n"
     ]
    },
    {
     "name": "stdout",
     "output_type": "stream",
     "text": [
      "Estimating biases using als...\n"
     ]
    },
    {
     "name": "stderr",
     "output_type": "stream",
     "text": [
      "[Parallel(n_jobs=1)]: Done   3 out of   3 | elapsed:    2.0s remaining:    0.0s\n"
     ]
    },
    {
     "name": "stdout",
     "output_type": "stream",
     "text": [
      "Estimating biases using als...\n"
     ]
    },
    {
     "name": "stderr",
     "output_type": "stream",
     "text": [
      "[Parallel(n_jobs=1)]: Done   4 out of   4 | elapsed:    2.5s remaining:    0.0s\n"
     ]
    },
    {
     "name": "stdout",
     "output_type": "stream",
     "text": [
      "Estimating biases using als...\n",
      "performing SVD with n_factors= 1\n"
     ]
    },
    {
     "name": "stderr",
     "output_type": "stream",
     "text": [
      "[Parallel(n_jobs=1)]: Done   5 out of   5 | elapsed:    3.1s remaining:    0.0s\n"
     ]
    },
    {
     "name": "stdout",
     "output_type": "stream",
     "text": [
      "Estimating biases using als...\n",
      "performing SVD with n_factors= 1\n"
     ]
    },
    {
     "name": "stderr",
     "output_type": "stream",
     "text": [
      "[Parallel(n_jobs=1)]: Done   6 out of   6 | elapsed:    3.7s remaining:    0.0s\n"
     ]
    },
    {
     "name": "stdout",
     "output_type": "stream",
     "text": [
      "Estimating biases using als...\n",
      "performing SVD with n_factors= 1\n"
     ]
    },
    {
     "name": "stderr",
     "output_type": "stream",
     "text": [
      "[Parallel(n_jobs=1)]: Done   7 out of   7 | elapsed:    4.4s remaining:    0.0s\n"
     ]
    },
    {
     "name": "stdout",
     "output_type": "stream",
     "text": [
      "Estimating biases using als...\n",
      "performing SVD with n_factors= 1\n"
     ]
    },
    {
     "name": "stderr",
     "output_type": "stream",
     "text": [
      "[Parallel(n_jobs=1)]: Done   8 out of   8 | elapsed:    5.6s remaining:    0.0s\n"
     ]
    },
    {
     "name": "stdout",
     "output_type": "stream",
     "text": [
      "Estimating biases using als...\n",
      "performing SVD with n_factors= 2\n"
     ]
    },
    {
     "name": "stderr",
     "output_type": "stream",
     "text": [
      "[Parallel(n_jobs=1)]: Done   9 out of   9 | elapsed:    6.2s remaining:    0.0s\n"
     ]
    },
    {
     "name": "stdout",
     "output_type": "stream",
     "text": [
      "Estimating biases using als...\n",
      "performing SVD with n_factors= 2\n",
      "Estimating biases using als...\n",
      "performing SVD with n_factors= 2\n",
      "Estimating biases using als...\n",
      "performing SVD with n_factors= 2\n",
      "Estimating biases using als...\n",
      "performing SVD with n_factors= 3\n",
      "Estimating biases using als...\n",
      "performing SVD with n_factors= 3\n",
      "Estimating biases using als...\n",
      "performing SVD with n_factors= 3\n",
      "Estimating biases using als...\n",
      "performing SVD with n_factors= 3\n",
      "Estimating biases using als...\n",
      "performing SVD with n_factors= 4\n",
      "Estimating biases using als...\n",
      "performing SVD with n_factors= 4\n",
      "Estimating biases using als...\n",
      "performing SVD with n_factors= 4\n",
      "Estimating biases using als...\n",
      "performing SVD with n_factors= 4\n",
      "Estimating biases using als...\n",
      "performing SVD with n_factors= 5\n",
      "Estimating biases using als...\n",
      "performing SVD with n_factors= 5\n",
      "Estimating biases using als...\n",
      "performing SVD with n_factors= 5\n",
      "Estimating biases using als...\n",
      "performing SVD with n_factors= 5\n",
      "Estimating biases using als...\n",
      "performing SVD with n_factors= 6\n",
      "Estimating biases using als...\n",
      "performing SVD with n_factors= 6\n",
      "Estimating biases using als...\n",
      "performing SVD with n_factors= 6\n",
      "Estimating biases using als...\n",
      "performing SVD with n_factors= 6\n",
      "Estimating biases using als...\n",
      "performing SVD with n_factors= 7\n",
      "Estimating biases using als...\n",
      "performing SVD with n_factors= 7\n",
      "Estimating biases using als...\n",
      "performing SVD with n_factors= 7\n",
      "Estimating biases using als...\n",
      "performing SVD with n_factors= 7\n",
      "Estimating biases using als...\n",
      "performing SVD with n_factors= 8\n",
      "Estimating biases using als...\n",
      "performing SVD with n_factors= 8\n",
      "Estimating biases using als...\n",
      "performing SVD with n_factors= 8\n",
      "Estimating biases using als...\n",
      "performing SVD with n_factors= 8\n",
      "Estimating biases using als...\n",
      "performing SVD with n_factors= 9\n",
      "Estimating biases using als...\n",
      "performing SVD with n_factors= 9\n",
      "Estimating biases using als...\n",
      "performing SVD with n_factors= 9\n",
      "Estimating biases using als...\n",
      "performing SVD with n_factors= 9\n",
      "Estimating biases using als...\n",
      "performing SVD with n_factors= 10\n",
      "Estimating biases using als...\n",
      "performing SVD with n_factors= 10\n",
      "Estimating biases using als...\n",
      "performing SVD with n_factors= 10\n",
      "Estimating biases using als...\n",
      "performing SVD with n_factors= 10\n",
      "Estimating biases using als...\n",
      "performing SVD with n_factors= 11\n",
      "Estimating biases using als...\n",
      "performing SVD with n_factors= 11\n",
      "Estimating biases using als...\n",
      "performing SVD with n_factors= 11\n",
      "Estimating biases using als...\n",
      "performing SVD with n_factors= 11\n",
      "Estimating biases using als...\n",
      "performing SVD with n_factors= 12\n",
      "Estimating biases using als...\n",
      "performing SVD with n_factors= 12\n",
      "Estimating biases using als...\n",
      "performing SVD with n_factors= 12\n",
      "Estimating biases using als...\n",
      "performing SVD with n_factors= 12\n",
      "Estimating biases using als...\n",
      "performing SVD with n_factors= 13\n",
      "Estimating biases using als...\n",
      "performing SVD with n_factors= 13\n",
      "Estimating biases using als...\n",
      "performing SVD with n_factors= 13\n",
      "Estimating biases using als...\n",
      "performing SVD with n_factors= 13\n",
      "Estimating biases using als...\n",
      "performing SVD with n_factors= 14\n",
      "Estimating biases using als...\n",
      "performing SVD with n_factors= 14\n",
      "Estimating biases using als...\n",
      "performing SVD with n_factors= 14\n",
      "Estimating biases using als...\n",
      "performing SVD with n_factors= 14\n",
      "Estimating biases using als...\n",
      "performing SVD with n_factors= 15\n",
      "Estimating biases using als...\n",
      "performing SVD with n_factors= 15\n",
      "Estimating biases using als...\n",
      "performing SVD with n_factors= 15\n",
      "Estimating biases using als...\n",
      "performing SVD with n_factors= 15\n",
      "Estimating biases using als...\n",
      "performing SVD with n_factors= 16\n",
      "Estimating biases using als...\n",
      "performing SVD with n_factors= 16\n",
      "Estimating biases using als...\n",
      "performing SVD with n_factors= 16\n",
      "Estimating biases using als...\n",
      "performing SVD with n_factors= 16\n",
      "Estimating biases using als...\n",
      "performing SVD with n_factors= 17\n",
      "Estimating biases using als...\n",
      "performing SVD with n_factors= 17\n",
      "Estimating biases using als...\n",
      "performing SVD with n_factors= 17\n",
      "Estimating biases using als...\n",
      "performing SVD with n_factors= 17\n",
      "Estimating biases using als...\n",
      "performing SVD with n_factors= 18\n",
      "Estimating biases using als...\n",
      "performing SVD with n_factors= 18\n",
      "Estimating biases using als...\n",
      "performing SVD with n_factors= 18\n",
      "Estimating biases using als...\n",
      "performing SVD with n_factors= 18\n",
      "Estimating biases using als...\n",
      "performing SVD with n_factors= 19\n",
      "Estimating biases using als...\n",
      "performing SVD with n_factors= 19\n",
      "Estimating biases using als...\n",
      "performing SVD with n_factors= 19\n",
      "Estimating biases using als...\n",
      "performing SVD with n_factors= 19\n"
     ]
    },
    {
     "name": "stderr",
     "output_type": "stream",
     "text": [
      "[Parallel(n_jobs=1)]: Done  80 out of  80 | elapsed:  1.0min finished\n"
     ]
    },
    {
     "name": "stdout",
     "output_type": "stream",
     "text": [
      "Estimating biases using als...\n",
      "performing SVD with n_factors= 6\n"
     ]
    }
   ],
   "source": [
    "params={'n_factors':range(0,20),\n",
    "       #'biased':(False,),\n",
    "       #'NMF':(True,)\n",
    "       }\n",
    "\n",
    "grid4=surprise.model_selection.search.GridSearchCV(poorman_SVD, params,cv=4, measures=['rmse','fcp'], n_jobs=1, joblib_verbose=10,refit=True)\n",
    "grid4.fit(data)"
   ]
  },
  {
   "cell_type": "code",
   "execution_count": 274,
   "metadata": {},
   "outputs": [
    {
     "data": {
      "image/png": "[encoded data removed]",
      "text/plain": [
       "<matplotlib.figure.Figure at 0x7f6fb2994ef0>"
      ]
     },
     "metadata": {},
     "output_type": "display_data"
    }
   ],
   "source": [
    "plt.plot(grid4.cv_results['param_n_factors'],grid4.cv_results['mean_test_rmse'],'o');"
   ]
  },
  {
   "cell_type": "code",
   "execution_count": 275,
   "metadata": {},
   "outputs": [
    {
     "data": {
      "image/png": "[encoded data removed]",
      "text/plain": [
       "<matplotlib.figure.Figure at 0x7f6faa596fd0>"
      ]
     },
     "metadata": {},
     "output_type": "display_data"
    }
   ],
   "source": [
    "plt.plot(grid4.cv_results['param_n_factors'],grid4.cv_results['mean_test_fcp'],'o');"
   ]
  },
  {
   "cell_type": "code",
   "execution_count": 276,
   "metadata": {},
   "outputs": [
    {
     "data": {
      "text/plain": [
       "({'fcp': {'n_factors': 6}, 'rmse': {'n_factors': 6}},\n",
       " {'fcp': 0.7132335195607014, 'rmse': 0.9299526118124866})"
      ]
     },
     "execution_count": 276,
     "metadata": {},
     "output_type": "execute_result"
    }
   ],
   "source": [
    "grid4.best_params,grid4.best_score"
   ]
  },
  {
   "cell_type": "code",
   "execution_count": 283,
   "metadata": {},
   "outputs": [
    {
     "name": "stdout",
     "output_type": "stream",
     "text": [
      "SVD\n",
      "|:----|------:|------:|----:|:--------|\n",
      "| SVD | 0.936 | 0.738 | 0.7 | 0:00:21 |\n",
      "poorman_SVD\n",
      "Estimating biases using als...\n",
      "performing SVD with n_factors= 10\n",
      "Estimating biases using als...\n",
      "performing SVD with n_factors= 10\n",
      "Estimating biases using als...\n",
      "performing SVD with n_factors= 10\n",
      "Estimating biases using als...\n",
      "performing SVD with n_factors= 10\n",
      "Estimating biases using als...\n",
      "performing SVD with n_factors= 10\n",
      "|:------------|------:|------:|-----:|:--------|\n",
      "| poorman_SVD | 0.928 | 0.732 | 0.71 | 0:00:03 |\n",
      "BaselineOnly\n",
      "Estimating biases using als...\n",
      "Estimating biases using als...\n",
      "Estimating biases using als...\n",
      "Estimating biases using als...\n",
      "Estimating biases using als...\n",
      "|:-------------|------:|------:|------:|:--------|\n",
      "| BaselineOnly | 0.944 | 0.748 | 0.696 | 0:00:02 |\n",
      "NormalPredictor\n",
      "|:----------------|------:|------:|------:|:--------|\n",
      "| NormalPredictor | 1.523 | 1.225 | 0.496 | 0:00:02 |\n",
      "NMF\n",
      "|:----|------:|------:|-----:|:--------|\n",
      "| NMF | 0.963 | 0.757 | 0.69 | 0:00:26 |\n",
      "SlopeOne\n",
      "|:---------|------:|------:|------:|:--------|\n",
      "| SlopeOne | 0.946 | 0.743 | 0.698 | 0:00:15 |\n",
      "KNNBasic\n",
      "Computing the msd similarity matrix...\n",
      "Done computing similarity matrix.\n",
      "Computing the msd similarity matrix...\n",
      "Done computing similarity matrix.\n",
      "Computing the msd similarity matrix...\n",
      "Done computing similarity matrix.\n",
      "Computing the msd similarity matrix...\n",
      "Done computing similarity matrix.\n",
      "Computing the msd similarity matrix...\n",
      "Done computing similarity matrix.\n",
      "|:---------|-----:|------:|------:|:--------|\n",
      "| KNNBasic | 0.98 | 0.774 | 0.707 | 0:00:16 |\n",
      "KNNWithMeans\n",
      "Computing the msd similarity matrix...\n",
      "Done computing similarity matrix.\n",
      "Computing the msd similarity matrix...\n",
      "Done computing similarity matrix.\n",
      "Computing the msd similarity matrix...\n",
      "Done computing similarity matrix.\n",
      "Computing the msd similarity matrix...\n",
      "Done computing similarity matrix.\n",
      "Computing the msd similarity matrix...\n",
      "Done computing similarity matrix.\n",
      "|:-------------|------:|------:|------:|:--------|\n",
      "| KNNWithMeans | 0.951 | 0.749 | 0.702 | 0:00:17 |\n",
      "KNNBaseline\n",
      "Estimating biases using als...\n",
      "Computing the msd similarity matrix...\n",
      "Done computing similarity matrix.\n",
      "Estimating biases using als...\n",
      "Computing the msd similarity matrix...\n",
      "Done computing similarity matrix.\n",
      "Estimating biases using als...\n",
      "Computing the msd similarity matrix...\n",
      "Done computing similarity matrix.\n",
      "Estimating biases using als...\n",
      "Computing the msd similarity matrix...\n",
      "Done computing similarity matrix.\n",
      "Estimating biases using als...\n",
      "Computing the msd similarity matrix...\n",
      "Done computing similarity matrix.\n",
      "|:------------|------:|------:|------:|:--------|\n",
      "| KNNBaseline | 0.931 | 0.733 | 0.706 | 0:00:20 |\n",
      "CoClustering\n",
      "|:-------------|------:|------:|------:|:--------|\n",
      "| CoClustering | 0.969 | 0.759 | 0.689 | 0:00:09 |\n",
      "| Class           |   RMSE |   MAE |   FCP | Time    |\n",
      "|:----------------|-------:|------:|------:|:--------|\n",
      "| SVD             |  0.936 | 0.738 | 0.7   | 0:00:21 |\n",
      "| poorman_SVD     |  0.928 | 0.732 | 0.71  | 0:00:03 |\n",
      "| BaselineOnly    |  0.944 | 0.748 | 0.696 | 0:00:02 |\n",
      "| NormalPredictor |  1.523 | 1.225 | 0.496 | 0:00:02 |\n",
      "| NMF             |  0.963 | 0.757 | 0.69  | 0:00:26 |\n",
      "| SlopeOne        |  0.946 | 0.743 | 0.698 | 0:00:15 |\n",
      "| KNNBasic        |  0.98  | 0.774 | 0.707 | 0:00:16 |\n",
      "| KNNWithMeans    |  0.951 | 0.749 | 0.702 | 0:00:17 |\n",
      "| KNNBaseline     |  0.931 | 0.733 | 0.706 | 0:00:20 |\n",
      "| CoClustering    |  0.969 | 0.759 | 0.689 | 0:00:09 |\n"
     ]
    }
   ],
   "source": [
    "'''This module runs a 5-Fold CV for all the algorithms (default parameters) on\n",
    "the movielens datasets, and reports average RMSE, MAE, and total computation\n",
    "time.  It is used for making tables in the README.md file'''\n",
    "\n",
    "from __future__ import (absolute_import, division, print_function,\n",
    "                        unicode_literals)\n",
    "import time\n",
    "import datetime\n",
    "import random\n",
    "\n",
    "import numpy as np\n",
    "import six\n",
    "from tabulate import tabulate\n",
    "\n",
    "from surprise import Dataset\n",
    "from surprise.model_selection import cross_validate\n",
    "from surprise.model_selection import KFold\n",
    "from surprise import NormalPredictor\n",
    "from surprise import BaselineOnly\n",
    "from surprise import KNNBasic\n",
    "from surprise import KNNWithMeans\n",
    "from surprise import KNNBaseline\n",
    "from surprise import SVD\n",
    "from surprise import SVDpp\n",
    "from surprise import NMF\n",
    "from surprise import SlopeOne\n",
    "from surprise import CoClustering\n",
    "\n",
    "# The algorithms to cross-validate\n",
    "classes = (SVD,  poorman_SVD, BaselineOnly, NormalPredictor,NMF, SlopeOne, KNNBasic, KNNWithMeans, KNNBaseline,\n",
    "           CoClustering)\n",
    "\n",
    "# set RNG\n",
    "np.random.seed(0)\n",
    "random.seed(0)\n",
    "\n",
    "dataset = 'ml-100k'\n",
    "data = Dataset.load_builtin(dataset)\n",
    "kf = KFold(random_state=0)  # folds will be the same for all algorithms.\n",
    "\n",
    "table = []\n",
    "for klass in classes:\n",
    "    print(klass.__name__)\n",
    "    start = time.time()\n",
    "    out = cross_validate(klass(), data, ['rmse', 'mae','fcp'], kf,n_jobs=1)\n",
    "    cv_time = str(datetime.timedelta(seconds=int(time.time() - start)))\n",
    "    mean_rmse = '{:.3f}'.format(np.mean(out['test_rmse']))\n",
    "    mean_mae = '{:.3f}'.format(np.mean(out['test_mae']))\n",
    "    mean_fcp = '{:.3f}'.format(np.mean(out['test_fcp']))\n",
    "\n",
    "    new_line = [klass.__name__,mean_rmse, mean_mae, mean_fcp,cv_time]\n",
    "    print(tabulate([new_line], tablefmt=\"pipe\"))  # print current algo perf\n",
    "    table.append(new_line)\n",
    "\n",
    "header = ['Class','RMSE','MAE','FCP','Time']\n",
    "print(tabulate(table, header, tablefmt=\"pipe\"))"
   ]
  },
  {
   "cell_type": "code",
   "execution_count": null,
   "metadata": {},
   "outputs": [],
   "source": []
  }
 ],
 "metadata": {
  "kernelspec": {
   "display_name": "Python 3",
   "language": "python",
   "name": "python3"
  },
  "language_info": {
   "codemirror_mode": {
    "name": "ipython",
    "version": 3
   },
   "file_extension": ".py",
   "mimetype": "text/x-python",
   "name": "python",
   "nbconvert_exporter": "python",
   "pygments_lexer": "ipython3",
   "version": "3.5.2"
  }
 },
 "nbformat": 4,
 "nbformat_minor": 2
}
