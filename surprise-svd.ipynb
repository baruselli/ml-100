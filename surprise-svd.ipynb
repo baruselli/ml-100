{
 "cells": [
  {
   "cell_type": "markdown",
   "metadata": {},
   "source": [
    "## Implement pure SVD in surprise"
   ]
  },
  {
   "cell_type": "markdown",
   "metadata": {},
   "source": [
    "Here I implement a simple recommendation algorithms that uses plain SVD (no regularization, no SGD, etc...).\n",
    "The only parameter to set is the number of singular values to keep (which can be done by grid search)"
   ]
  },
  {
   "cell_type": "code",
   "execution_count": 1,
   "metadata": {},
   "outputs": [],
   "source": [
    "from surprise import AlgoBase\n",
    "from surprise import Dataset\n",
    "from surprise.model_selection import cross_validate\n",
    "\n",
    "class poorman_SVD(AlgoBase):\n",
    "\n",
    "    def __init__(self,n_factors=10,biased=True,verbose=True,NMF=False):\n",
    "\n",
    "        # Always call base method before doing anything.\n",
    "        AlgoBase.__init__(self)\n",
    "        self.k=n_factors\n",
    "        self.biased=biased\n",
    "        self.verbose=verbose\n",
    "        self.do_NMF=NMF\n",
    "        if(self.do_NMF): self.biased=False\n",
    "\n",
    "    def fit(self, trainset):\n",
    "\n",
    "        # Here again: call base method before doing anything.\n",
    "        AlgoBase.fit(self, trainset)\n",
    "        \n",
    "        import numpy as np\n",
    "        from  scipy.sparse import coo_matrix\n",
    "\n",
    "        #baselines\n",
    "        if (self.biased): self.bu, self.bi = self.compute_baselines()\n",
    "        self.mean=trainset.global_mean\n",
    "        \n",
    "        #SVD part\n",
    "        if(self.k>0):\n",
    "            \n",
    "            #builds sparse matrix\n",
    "            if (self.biased): self.ratings=np.array([r-self.mean-self.bu[u]-self.bi[i] for (u, i, r) in self.trainset.all_ratings()])\n",
    "            else:             self.ratings=np.array([r                                 for (_, _, r) in self.trainset.all_ratings()])\n",
    "            self.users=np.array([u for (u, _, _) in self.trainset.all_ratings()])\n",
    "            self.items=np.array([i for (_, i, _) in self.trainset.all_ratings()])\n",
    "            self.user_item=coo_matrix((self.ratings,(self.users,self.items)))\n",
    "\n",
    "            #performs SVD on sparse matrix\n",
    "            if(not self.do_NMF):\n",
    "                if (self.verbose): print('performing SVD with n_factors=', self.k)\n",
    "                from  scipy.sparse.linalg import svds\n",
    "                self.U,self.s,self.VT=svds(self.user_item,k=self.k)\n",
    "                self.S = np.diag(self.s)\n",
    "                #reconstruct the rating matrix (which is a full matrix n_user*n_items, \n",
    "                #good for estimate speed, bad for memory)\n",
    "                #(this should be technically in the estimate part)\n",
    "                self.pred_rat=np.dot(self.U, np.dot(self.S, self.VT))\n",
    "\n",
    "                    \n",
    "            #performs NMF on full matrix (don\"t know if there is a version for sparse matrices)\n",
    "            else:\n",
    "                if (self.verbose): print('performing NMF with n_factors=', self.k)\n",
    "                from sklearn.decomposition import NMF\n",
    "                self.model = NMF(n_components=self.k, init='random', random_state=0)\n",
    "                self.pred_rat = self.model.fit_transform(self.user_item.toarray())\n",
    "        \n",
    "        return self\n",
    "\n",
    "    def estimate(self, u, i):\n",
    "        try:\n",
    "            if (self.biased):return self.pred_rat[u,i]+self.mean+self.bu[u]+self.bi[i]\n",
    "            else:            return self.pred_rat[u,i] #+self.mean\n",
    "\n",
    "        except: \n",
    "            try:\n",
    "                if (self.biased):return self.mean+self.bu[u]+self.bi[i]\n",
    "                else:            return self.mean\n",
    "            except:\n",
    "                return self.mean\n",
    "\n",
    "        "
   ]
  },
  {
   "cell_type": "code",
   "execution_count": 4,
   "metadata": {},
   "outputs": [],
   "source": [
    "from surprise import Dataset\n",
    "from surprise import evaluate\n",
    "\n",
    "data = Dataset.load_builtin('ml-100k')\n",
    "#data = Dataset.load_builtin('ml-1m')\n",
    "data.split(n_folds=4)"
   ]
  },
  {
   "cell_type": "code",
   "execution_count": 5,
   "metadata": {},
   "outputs": [
    {
     "name": "stderr",
     "output_type": "stream",
     "text": [
      "/scratch/baruselli/inst/intelpython35/lib/python3.5/site-packages/surprise/evaluate.py:66: UserWarning: The evaluate() method is deprecated. Please use model_selection.cross_validate() instead.\n",
      "  'model_selection.cross_validate() instead.', UserWarning)\n",
      "/scratch/baruselli/inst/intelpython35/lib/python3.5/site-packages/surprise/dataset.py:193: UserWarning: Using data.split() or using load_from_folds() without using a CV iterator is now deprecated. \n",
      "  UserWarning)\n"
     ]
    },
    {
     "name": "stdout",
     "output_type": "stream",
     "text": [
      "Evaluating RMSE, MAE, FCP of algorithm poorman_SVD.\n",
      "\n",
      "------------\n",
      "Fold 1\n",
      "Estimating biases using als...\n",
      "performing SVD with n_factors= 1\n",
      "RMSE: 0.9353\n",
      "MAE:  0.7425\n",
      "FCP:  0.7048\n",
      "------------\n",
      "Fold 2\n",
      "Estimating biases using als...\n",
      "performing SVD with n_factors= 1\n",
      "RMSE: 0.9414\n",
      "MAE:  0.7468\n",
      "FCP:  0.7045\n",
      "------------\n",
      "Fold 3\n",
      "Estimating biases using als...\n",
      "performing SVD with n_factors= 1\n",
      "RMSE: 0.9346\n",
      "MAE:  0.7391\n",
      "FCP:  0.7049\n",
      "------------\n",
      "Fold 4\n",
      "Estimating biases using als...\n",
      "performing SVD with n_factors= 1\n",
      "RMSE: 0.9426\n",
      "MAE:  0.7423\n",
      "FCP:  0.7093\n",
      "------------\n",
      "------------\n",
      "Mean RMSE: 0.9385\n",
      "Mean MAE : 0.7427\n",
      "Mean FCP : 0.7059\n",
      "------------\n",
      "------------\n"
     ]
    }
   ],
   "source": [
    "algo4 = poorman_SVD(n_factors=1)\n",
    "\n",
    "# Evaluate performances of our algorithm on the dataset.\n",
    "perf4 = evaluate(algo4, data, measures=['RMSE', 'MAE','FCP'])"
   ]
  },
  {
   "cell_type": "code",
   "execution_count": 7,
   "metadata": {
    "scrolled": true
   },
   "outputs": [
    {
     "name": "stdout",
     "output_type": "stream",
     "text": [
      "Estimating biases using als...\n"
     ]
    },
    {
     "name": "stderr",
     "output_type": "stream",
     "text": [
      "[Parallel(n_jobs=1)]: Done   1 out of   1 | elapsed:    0.6s remaining:    0.0s\n"
     ]
    },
    {
     "name": "stdout",
     "output_type": "stream",
     "text": [
      "Estimating biases using als...\n"
     ]
    },
    {
     "name": "stderr",
     "output_type": "stream",
     "text": [
      "[Parallel(n_jobs=1)]: Done   2 out of   2 | elapsed:    1.1s remaining:    0.0s\n"
     ]
    },
    {
     "name": "stdout",
     "output_type": "stream",
     "text": [
      "Estimating biases using als...\n"
     ]
    },
    {
     "name": "stderr",
     "output_type": "stream",
     "text": [
      "[Parallel(n_jobs=1)]: Done   3 out of   3 | elapsed:    1.6s remaining:    0.0s\n"
     ]
    },
    {
     "name": "stdout",
     "output_type": "stream",
     "text": [
      "Estimating biases using als...\n"
     ]
    },
    {
     "name": "stderr",
     "output_type": "stream",
     "text": [
      "[Parallel(n_jobs=1)]: Done   4 out of   4 | elapsed:    2.2s remaining:    0.0s\n"
     ]
    },
    {
     "name": "stdout",
     "output_type": "stream",
     "text": [
      "Estimating biases using als...\n",
      "performing SVD with n_factors= 1\n"
     ]
    },
    {
     "name": "stderr",
     "output_type": "stream",
     "text": [
      "[Parallel(n_jobs=1)]: Done   5 out of   5 | elapsed:    2.9s remaining:    0.0s\n"
     ]
    },
    {
     "name": "stdout",
     "output_type": "stream",
     "text": [
      "Estimating biases using als...\n",
      "performing SVD with n_factors= 1\n"
     ]
    },
    {
     "name": "stderr",
     "output_type": "stream",
     "text": [
      "[Parallel(n_jobs=1)]: Done   6 out of   6 | elapsed:    3.6s remaining:    0.0s\n"
     ]
    },
    {
     "name": "stdout",
     "output_type": "stream",
     "text": [
      "Estimating biases using als...\n",
      "performing SVD with n_factors= 1\n"
     ]
    },
    {
     "name": "stderr",
     "output_type": "stream",
     "text": [
      "[Parallel(n_jobs=1)]: Done   7 out of   7 | elapsed:    4.2s remaining:    0.0s\n"
     ]
    },
    {
     "name": "stdout",
     "output_type": "stream",
     "text": [
      "Estimating biases using als...\n",
      "performing SVD with n_factors= 1\n"
     ]
    },
    {
     "name": "stderr",
     "output_type": "stream",
     "text": [
      "[Parallel(n_jobs=1)]: Done   8 out of   8 | elapsed:    4.9s remaining:    0.0s\n"
     ]
    },
    {
     "name": "stdout",
     "output_type": "stream",
     "text": [
      "Estimating biases using als...\n",
      "performing SVD with n_factors= 2\n"
     ]
    },
    {
     "name": "stderr",
     "output_type": "stream",
     "text": [
      "[Parallel(n_jobs=1)]: Done   9 out of   9 | elapsed:    5.6s remaining:    0.0s\n"
     ]
    },
    {
     "name": "stdout",
     "output_type": "stream",
     "text": [
      "Estimating biases using als...\n",
      "performing SVD with n_factors= 2\n",
      "Estimating biases using als...\n",
      "performing SVD with n_factors= 2\n",
      "Estimating biases using als...\n",
      "performing SVD with n_factors= 2\n",
      "Estimating biases using als...\n",
      "performing SVD with n_factors= 3\n",
      "Estimating biases using als...\n",
      "performing SVD with n_factors= 3\n",
      "Estimating biases using als...\n",
      "performing SVD with n_factors= 3\n",
      "Estimating biases using als...\n",
      "performing SVD with n_factors= 3\n",
      "Estimating biases using als...\n",
      "performing SVD with n_factors= 4\n",
      "Estimating biases using als...\n",
      "performing SVD with n_factors= 4\n",
      "Estimating biases using als...\n",
      "performing SVD with n_factors= 4\n",
      "Estimating biases using als...\n",
      "performing SVD with n_factors= 4\n",
      "Estimating biases using als...\n",
      "performing SVD with n_factors= 5\n",
      "Estimating biases using als...\n",
      "performing SVD with n_factors= 5\n",
      "Estimating biases using als...\n",
      "performing SVD with n_factors= 5\n",
      "Estimating biases using als...\n",
      "performing SVD with n_factors= 5\n",
      "Estimating biases using als...\n",
      "performing SVD with n_factors= 6\n",
      "Estimating biases using als...\n",
      "performing SVD with n_factors= 6\n",
      "Estimating biases using als...\n",
      "performing SVD with n_factors= 6\n",
      "Estimating biases using als...\n",
      "performing SVD with n_factors= 6\n",
      "Estimating biases using als...\n",
      "performing SVD with n_factors= 7\n",
      "Estimating biases using als...\n",
      "performing SVD with n_factors= 7\n",
      "Estimating biases using als...\n",
      "performing SVD with n_factors= 7\n",
      "Estimating biases using als...\n",
      "performing SVD with n_factors= 7\n",
      "Estimating biases using als...\n",
      "performing SVD with n_factors= 8\n",
      "Estimating biases using als...\n",
      "performing SVD with n_factors= 8\n",
      "Estimating biases using als...\n",
      "performing SVD with n_factors= 8\n",
      "Estimating biases using als...\n",
      "performing SVD with n_factors= 8\n",
      "Estimating biases using als...\n",
      "performing SVD with n_factors= 9\n",
      "Estimating biases using als...\n",
      "performing SVD with n_factors= 9\n",
      "Estimating biases using als...\n",
      "performing SVD with n_factors= 9\n",
      "Estimating biases using als...\n",
      "performing SVD with n_factors= 9\n",
      "Estimating biases using als...\n",
      "performing SVD with n_factors= 10\n",
      "Estimating biases using als...\n",
      "performing SVD with n_factors= 10\n",
      "Estimating biases using als...\n",
      "performing SVD with n_factors= 10\n",
      "Estimating biases using als...\n",
      "performing SVD with n_factors= 10\n",
      "Estimating biases using als...\n",
      "performing SVD with n_factors= 11\n",
      "Estimating biases using als...\n",
      "performing SVD with n_factors= 11\n",
      "Estimating biases using als...\n",
      "performing SVD with n_factors= 11\n",
      "Estimating biases using als...\n",
      "performing SVD with n_factors= 11\n",
      "Estimating biases using als...\n",
      "performing SVD with n_factors= 12\n",
      "Estimating biases using als...\n",
      "performing SVD with n_factors= 12\n",
      "Estimating biases using als...\n",
      "performing SVD with n_factors= 12\n",
      "Estimating biases using als...\n",
      "performing SVD with n_factors= 12\n",
      "Estimating biases using als...\n",
      "performing SVD with n_factors= 13\n",
      "Estimating biases using als...\n",
      "performing SVD with n_factors= 13\n",
      "Estimating biases using als...\n",
      "performing SVD with n_factors= 13\n",
      "Estimating biases using als...\n",
      "performing SVD with n_factors= 13\n",
      "Estimating biases using als...\n",
      "performing SVD with n_factors= 14\n",
      "Estimating biases using als...\n",
      "performing SVD with n_factors= 14\n",
      "Estimating biases using als...\n",
      "performing SVD with n_factors= 14\n",
      "Estimating biases using als...\n",
      "performing SVD with n_factors= 14\n",
      "Estimating biases using als...\n",
      "performing SVD with n_factors= 15\n",
      "Estimating biases using als...\n",
      "performing SVD with n_factors= 15\n",
      "Estimating biases using als...\n",
      "performing SVD with n_factors= 15\n",
      "Estimating biases using als...\n",
      "performing SVD with n_factors= 15\n",
      "Estimating biases using als...\n",
      "performing SVD with n_factors= 16\n",
      "Estimating biases using als...\n",
      "performing SVD with n_factors= 16\n",
      "Estimating biases using als...\n",
      "performing SVD with n_factors= 16\n",
      "Estimating biases using als...\n",
      "performing SVD with n_factors= 16\n",
      "Estimating biases using als...\n",
      "performing SVD with n_factors= 17\n",
      "Estimating biases using als...\n",
      "performing SVD with n_factors= 17\n",
      "Estimating biases using als...\n",
      "performing SVD with n_factors= 17\n",
      "Estimating biases using als...\n",
      "performing SVD with n_factors= 17\n",
      "Estimating biases using als...\n",
      "performing SVD with n_factors= 18\n",
      "Estimating biases using als...\n",
      "performing SVD with n_factors= 18\n",
      "Estimating biases using als...\n",
      "performing SVD with n_factors= 18\n",
      "Estimating biases using als...\n",
      "performing SVD with n_factors= 18\n",
      "Estimating biases using als...\n",
      "performing SVD with n_factors= 19\n",
      "Estimating biases using als...\n",
      "performing SVD with n_factors= 19\n",
      "Estimating biases using als...\n",
      "performing SVD with n_factors= 19\n",
      "Estimating biases using als...\n",
      "performing SVD with n_factors= 19\n"
     ]
    },
    {
     "name": "stderr",
     "output_type": "stream",
     "text": [
      "[Parallel(n_jobs=1)]: Done  80 out of  80 | elapsed:   56.7s finished\n"
     ]
    },
    {
     "name": "stdout",
     "output_type": "stream",
     "text": [
      "Estimating biases using als...\n",
      "performing SVD with n_factors= 6\n"
     ]
    }
   ],
   "source": [
    "params={'n_factors':range(0,20),\n",
    "       }\n",
    "\n",
    "from surprise.model_selection.search import GridSearchCV\n",
    "grid4=GridSearchCV(poorman_SVD, params,cv=4, measures=['rmse','fcp'], n_jobs=1, joblib_verbose=10,refit=True)\n",
    "grid4.fit(data)"
   ]
  },
  {
   "cell_type": "code",
   "execution_count": 10,
   "metadata": {},
   "outputs": [
    {
     "data": {
      "image/png": "[encoded data removed]",
      "text/plain": [
       "<matplotlib.figure.Figure at 0x7f1cb5478e10>"
      ]
     },
     "metadata": {},
     "output_type": "display_data"
    }
   ],
   "source": [
    "import matplotlib.pyplot as plt\n",
    "%matplotlib inline\n",
    "plt.plot(grid4.cv_results['param_n_factors'],grid4.cv_results['mean_test_rmse'],'o');"
   ]
  },
  {
   "cell_type": "code",
   "execution_count": 11,
   "metadata": {},
   "outputs": [
    {
     "data": {
      "image/png": "[encoded data removed]",
      "text/plain": [
       "<matplotlib.figure.Figure at 0x7f1cd8035358>"
      ]
     },
     "metadata": {},
     "output_type": "display_data"
    }
   ],
   "source": [
    "plt.plot(grid4.cv_results['param_n_factors'],grid4.cv_results['mean_test_fcp'],'o');"
   ]
  },
  {
   "cell_type": "code",
   "execution_count": 12,
   "metadata": {},
   "outputs": [
    {
     "data": {
      "text/plain": [
       "({'fcp': {'n_factors': 6}, 'rmse': {'n_factors': 6}},\n",
       " {'fcp': 0.7128998856257938, 'rmse': 0.9292604266465252})"
      ]
     },
     "execution_count": 12,
     "metadata": {},
     "output_type": "execute_result"
    }
   ],
   "source": [
    "grid4.best_params,grid4.best_score"
   ]
  },
  {
   "cell_type": "markdown",
   "metadata": {},
   "source": [
    "Some benchmarks"
   ]
  },
  {
   "cell_type": "code",
   "execution_count": 13,
   "metadata": {},
   "outputs": [
    {
     "name": "stdout",
     "output_type": "stream",
     "text": [
      "SVD\n",
      "|:----|------:|------:|----:|:--------|\n",
      "| SVD | 0.936 | 0.738 | 0.7 | 0:00:22 |\n",
      "poorman_SVD\n",
      "Estimating biases using als...\n",
      "performing SVD with n_factors= 10\n",
      "Estimating biases using als...\n",
      "performing SVD with n_factors= 10\n",
      "Estimating biases using als...\n",
      "performing SVD with n_factors= 10\n",
      "Estimating biases using als...\n",
      "performing SVD with n_factors= 10\n",
      "Estimating biases using als...\n",
      "performing SVD with n_factors= 10\n",
      "|:------------|------:|------:|-----:|:--------|\n",
      "| poorman_SVD | 0.928 | 0.732 | 0.71 | 0:00:03 |\n",
      "BaselineOnly\n",
      "Estimating biases using als...\n",
      "Estimating biases using als...\n",
      "Estimating biases using als...\n",
      "Estimating biases using als...\n",
      "Estimating biases using als...\n",
      "|:-------------|------:|------:|------:|:--------|\n",
      "| BaselineOnly | 0.944 | 0.748 | 0.696 | 0:00:03 |\n",
      "NormalPredictor\n",
      "|:----------------|------:|------:|------:|:--------|\n",
      "| NormalPredictor | 1.523 | 1.225 | 0.496 | 0:00:02 |\n",
      "NMF\n",
      "|:----|------:|------:|-----:|:--------|\n",
      "| NMF | 0.963 | 0.757 | 0.69 | 0:00:26 |\n",
      "SlopeOne\n",
      "|:---------|------:|------:|------:|:--------|\n",
      "| SlopeOne | 0.946 | 0.743 | 0.698 | 0:00:15 |\n",
      "KNNBasic\n",
      "Computing the msd similarity matrix...\n",
      "Done computing similarity matrix.\n",
      "Computing the msd similarity matrix...\n",
      "Done computing similarity matrix.\n",
      "Computing the msd similarity matrix...\n",
      "Done computing similarity matrix.\n",
      "Computing the msd similarity matrix...\n",
      "Done computing similarity matrix.\n",
      "Computing the msd similarity matrix...\n",
      "Done computing similarity matrix.\n",
      "|:---------|-----:|------:|------:|:--------|\n",
      "| KNNBasic | 0.98 | 0.774 | 0.707 | 0:00:17 |\n",
      "KNNWithMeans\n",
      "Computing the msd similarity matrix...\n",
      "Done computing similarity matrix.\n",
      "Computing the msd similarity matrix...\n",
      "Done computing similarity matrix.\n",
      "Computing the msd similarity matrix...\n",
      "Done computing similarity matrix.\n",
      "Computing the msd similarity matrix...\n",
      "Done computing similarity matrix.\n",
      "Computing the msd similarity matrix...\n",
      "Done computing similarity matrix.\n",
      "|:-------------|------:|------:|------:|:--------|\n",
      "| KNNWithMeans | 0.951 | 0.749 | 0.702 | 0:00:18 |\n",
      "KNNBaseline\n",
      "Estimating biases using als...\n",
      "Computing the msd similarity matrix...\n",
      "Done computing similarity matrix.\n",
      "Estimating biases using als...\n",
      "Computing the msd similarity matrix...\n",
      "Done computing similarity matrix.\n",
      "Estimating biases using als...\n",
      "Computing the msd similarity matrix...\n",
      "Done computing similarity matrix.\n",
      "Estimating biases using als...\n",
      "Computing the msd similarity matrix...\n",
      "Done computing similarity matrix.\n",
      "Estimating biases using als...\n",
      "Computing the msd similarity matrix...\n",
      "Done computing similarity matrix.\n",
      "|:------------|------:|------:|------:|:--------|\n",
      "| KNNBaseline | 0.931 | 0.733 | 0.706 | 0:00:20 |\n",
      "CoClustering\n",
      "|:-------------|------:|------:|------:|:--------|\n",
      "| CoClustering | 0.969 | 0.759 | 0.689 | 0:00:09 |\n",
      "| Class           |   RMSE |   MAE |   FCP | Time    |\n",
      "|:----------------|-------:|------:|------:|:--------|\n",
      "| SVD             |  0.936 | 0.738 | 0.7   | 0:00:22 |\n",
      "| poorman_SVD     |  0.928 | 0.732 | 0.71  | 0:00:03 |\n",
      "| BaselineOnly    |  0.944 | 0.748 | 0.696 | 0:00:03 |\n",
      "| NormalPredictor |  1.523 | 1.225 | 0.496 | 0:00:02 |\n",
      "| NMF             |  0.963 | 0.757 | 0.69  | 0:00:26 |\n",
      "| SlopeOne        |  0.946 | 0.743 | 0.698 | 0:00:15 |\n",
      "| KNNBasic        |  0.98  | 0.774 | 0.707 | 0:00:17 |\n",
      "| KNNWithMeans    |  0.951 | 0.749 | 0.702 | 0:00:18 |\n",
      "| KNNBaseline     |  0.931 | 0.733 | 0.706 | 0:00:20 |\n",
      "| CoClustering    |  0.969 | 0.759 | 0.689 | 0:00:09 |\n"
     ]
    }
   ],
   "source": [
    "'''This module runs a 5-Fold CV for all the algorithms (default parameters) on\n",
    "the movielens datasets, and reports average RMSE, MAE, and total computation\n",
    "time.  It is used for making tables in the README.md file'''\n",
    "\n",
    "from __future__ import (absolute_import, division, print_function,\n",
    "                        unicode_literals)\n",
    "import time\n",
    "import datetime\n",
    "import random\n",
    "\n",
    "import numpy as np\n",
    "import six\n",
    "from tabulate import tabulate\n",
    "\n",
    "from surprise import Dataset\n",
    "from surprise.model_selection import cross_validate\n",
    "from surprise.model_selection import KFold\n",
    "from surprise import NormalPredictor\n",
    "from surprise import BaselineOnly\n",
    "from surprise import KNNBasic\n",
    "from surprise import KNNWithMeans\n",
    "from surprise import KNNBaseline\n",
    "from surprise import SVD\n",
    "from surprise import SVDpp\n",
    "from surprise import NMF\n",
    "from surprise import SlopeOne\n",
    "from surprise import CoClustering\n",
    "\n",
    "# The algorithms to cross-validate\n",
    "classes = (SVD,  poorman_SVD, BaselineOnly, NormalPredictor,NMF, SlopeOne, KNNBasic, KNNWithMeans, KNNBaseline,\n",
    "           CoClustering)\n",
    "\n",
    "# set RNG\n",
    "np.random.seed(0)\n",
    "random.seed(0)\n",
    "\n",
    "dataset = 'ml-100k'\n",
    "data = Dataset.load_builtin(dataset)\n",
    "kf = KFold(random_state=0)  # folds will be the same for all algorithms.\n",
    "\n",
    "table = []\n",
    "for klass in classes:\n",
    "    print(klass.__name__)\n",
    "    start = time.time()\n",
    "    out = cross_validate(klass(), data, ['rmse', 'mae','fcp'], kf,n_jobs=1)\n",
    "    cv_time = str(datetime.timedelta(seconds=int(time.time() - start)))\n",
    "    mean_rmse = '{:.3f}'.format(np.mean(out['test_rmse']))\n",
    "    mean_mae = '{:.3f}'.format(np.mean(out['test_mae']))\n",
    "    mean_fcp = '{:.3f}'.format(np.mean(out['test_fcp']))\n",
    "\n",
    "    new_line = [klass.__name__,mean_rmse, mean_mae, mean_fcp,cv_time]\n",
    "    print(tabulate([new_line], tablefmt=\"pipe\"))  # print current algo perf\n",
    "    table.append(new_line)\n",
    "\n",
    "header = ['Class','RMSE','MAE','FCP','Time']\n",
    "print(tabulate(table, header, tablefmt=\"pipe\"))"
   ]
  }
 ],
 "metadata": {
  "kernelspec": {
   "display_name": "Python 3",
   "language": "python",
   "name": "python3"
  },
  "language_info": {
   "codemirror_mode": {
    "name": "ipython",
    "version": 3
   },
   "file_extension": ".py",
   "mimetype": "text/x-python",
   "name": "python",
   "nbconvert_exporter": "python",
   "pygments_lexer": "ipython3",
   "version": "3.5.2"
  }
 },
 "nbformat": 4,
 "nbformat_minor": 2
}
